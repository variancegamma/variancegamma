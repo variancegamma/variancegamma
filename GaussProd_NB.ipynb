{
 "cells": [
  {
   "cell_type": "code",
   "execution_count": 2,
   "metadata": {},
   "outputs": [],
   "source": [
    "from sympy import *\n",
    "init_printing()\n",
    "x, y, z, t = symbols('x y z t')\n",
    "k, m, n = symbols('k m n', integer=True)\n",
    "f, g, h,lf,lg = symbols('f g h lf lg', cls=Function)"
   ]
  },
  {
   "cell_type": "code",
   "execution_count": 3,
   "metadata": {},
   "outputs": [],
   "source": [
    "import numpy as np\n",
    "from scipy.optimize import bisect\n",
    "from scipy.stats import norm\n",
    "from scipy.stats import ncx2\n",
    "from scipy.integrate import quad\n",
    "import seaborn as sns\n",
    "from statsmodels.distributions.empirical_distribution import ECDF\n",
    "import matplotlib.pyplot as plt"
   ]
  },
  {
   "cell_type": "code",
   "execution_count": 3,
   "metadata": {},
   "outputs": [],
   "source": [
    "s1, s2, l1, l2,r1,r2,v1,v2,r,m1,m2,nm1,nm2,ns1,ns2,d,c1,c2,mvg,nu,tt,svg,e1,e2,e3,e4 = symbols('s1 s2 l1 l2 r1 r2 v1 v2 r m1 m2 nm1 nm2 ns1 ns2 d c1 c2 mvg nu tt svg,e1,e2,e3,e4')"
   ]
  },
  {
   "cell_type": "code",
   "execution_count": 4,
   "metadata": {},
   "outputs": [],
   "source": [
    "#eqnsvg=[e1-(mvg+tt*nu),e2-nu*(tt**2+svg**2),e3-(2*tt**3+3*svg**2*tt)/(sqrt(nu)*(3*tt*svg**2)),e4-(3+3*svg**4/(nu*(tt**2*(1+nu**2)+svg**4)))]\n",
    "#slnvg=solve(eqnsvg,mvg,tt,nu,svg,dict=True)"
   ]
  },
  {
   "cell_type": "code",
   "execution_count": 5,
   "metadata": {},
   "outputs": [],
   "source": [
    "def fun(x):\n",
    "    return [x[0] + 0.5 * x[1] - 1.0,\n",
    "            0.5 * (x[1] - x[0]) ** 2]"
   ]
  },
  {
   "cell_type": "code",
   "execution_count": 6,
   "metadata": {},
   "outputs": [
    {
     "data": {
      "image/png": "[encoded data removed]",
      "text/latex": [
       "$\\displaystyle \\left[ \\frac{m_{1} m_{2} t}{- s_{1}^{2} s_{2}^{2} t^{2} + 1} - \\frac{t \\left(nm_{1}^{2} - nm_{2}^{2}\\right)}{- s_{1}^{2} s_{2}^{2} t^{2} + 1}, \\  - \\frac{s_{1} s_{2} t^{2} \\left(nm_{1}^{2} + nm_{2}^{2}\\right)}{- s_{1}^{2} s_{2}^{2} t^{2} + 1} + \\frac{0.5 t^{2} \\left(m_{1}^{2} s_{2}^{2} + m_{2}^{2} s_{1}^{2}\\right)}{- s_{1}^{2} s_{2}^{2} t^{2} + 1}, \\  - s_{1}^{2} s_{2}^{2} t^{2} - \\left(- 2 r^{2} t + 1\\right) \\left(2 r^{2} t + 1\\right) + 1\\right]$"
      ],
      "text/plain": [
       "⎡                     ⎛   2      2⎞            2 ⎛   2      2⎞        2 ⎛  2  \n",
       "⎢    m₁⋅m₂⋅t        t⋅⎝nm₁  - nm₂ ⎠     s₁⋅s₂⋅t ⋅⎝nm₁  + nm₂ ⎠   0.5⋅t ⋅⎝m₁ ⋅s\n",
       "⎢──────────────── - ────────────────, - ────────────────────── + ─────────────\n",
       "⎢    2   2  2           2   2  2               2   2  2                   2   \n",
       "⎣- s₁ ⋅s₂ ⋅t  + 1   - s₁ ⋅s₂ ⋅t  + 1       - s₁ ⋅s₂ ⋅t  + 1           - s₁ ⋅s₂\n",
       "\n",
       " 2     2   2⎞                                                ⎤\n",
       "₂  + m₂ ⋅s₁ ⎠      2   2  2   ⎛     2      ⎞ ⎛   2      ⎞    ⎥\n",
       "─────────────, - s₁ ⋅s₂ ⋅t  - ⎝- 2⋅r ⋅t + 1⎠⋅⎝2⋅r ⋅t + 1⎠ + 1⎥\n",
       "2  2                                                         ⎥\n",
       " ⋅t  + 1                                                     ⎦"
      ]
     },
     "execution_count": 6,
     "metadata": {},
     "output_type": "execute_result"
    }
   ],
   "source": [
    "chfpr=exp(1/2*(t**2*((m1*s2)**2+(m2*s1)**2)+2*m1*m2*t)/((1-(s1*s2*t)**2)))/sqrt(1-(s1*s2*t)**2)\n",
    "#chfnc=exp(t*(nm1-nm2)**2/(1-ns1**2*t)-t*(nm1+nm2)**2/(1+ns2**2*t))/sqrt((1-ns1**2*t)*(1+ns2**2*t))\n",
    "#chfnc=exp(t*((nm1+nm2)/2)**2/(1-2*r**2/4*t)-t*((nm1-nm2)/2)**2/(1+2*r**2/4*t))/sqrt((1-2*r**2/4*t)*(1+2*r**2/4*t))\n",
    "chfnc=exp(t*(nm1**2/(1-2*r**2*t))-t*(nm2**2/(1+2*r**2*t)))/sqrt((1-2*r**2*t)*(1+2*r**2*t))\n",
    "#eqncnocor=[m1*s2**2+m2**s1**2-r**2*(nm1**2+nm2**2),4*m1*m2-nm1*nm2,r**2-s1*s2]\n",
    "nomcfpr=1-(s1*s2*t)**2\n",
    "#denomcfpr=1/2*(t**2*((m1*s2)**2+(m2*s1)**2)+2*m1*m2*t)/((1-(s1*s2*t)**2))\n",
    "denomcfpr=1/2*(t**2*((m1*s2)**2+(m2*s1)**2)+2*m1*m2*t)/((1-(s1*s2*t)**2))\n",
    "#denomcfnc=t*((nm1+nm2)/2)**2/(1-2*r**2/4*t)-t*((nm1-nm2)/2)**2/(1+2*r**2/4*t)\n",
    "denomcfnc=t*(nm1**2/(1-2*r**2*t))-t*(nm2**2/(1+2*r**2*t))\n",
    "denomcfnc1=t*(nm1**2-nm2**2)/(1-(s1*s2*t)**2)\n",
    "denomcfnc2=t**2*(nm2**2+nm1**2)*(s1*s2)/(1-(s1*s2*t)**2)\n",
    "denomcfpr1=(m1*m2*t)/(1-(s1*s2*t)**2)\n",
    "denomcfpr2=1/2*(t**2*((m1*s2)**2+(m2*s1)**2))/(1-(s1*s2*t)**2)\n",
    "#nomcfnc=(1-2*r**2/4*t)*(1+2*r**2/4*t)\n",
    "nomcfnc=(1-2*r**2*t)*(1+2*r**2*t)\n",
    "eqns=[denomcfpr1-denomcfnc1,denomcfpr2-denomcfnc2,nomcfpr-nomcfnc]\n",
    "#[denomcfpr1-denomcfnc1,denomcfpr2-denomcfnc2]\n",
    "eqns"
   ]
  },
  {
   "cell_type": "code",
   "execution_count": 7,
   "metadata": {},
   "outputs": [],
   "source": [
    "#B=(m1**2*s2**2+m2*s1**2)/(s1*s2)+8*m1*m2\n",
    "#r=sqrt(s1*s2)\n",
    "#nm2=(-sqrt(B)+sqrt(B-16*m1*m2))/2\n",
    "#nm1=sqrt(B-nm2)\n",
    "soln=solve(eqns,nm1,nm2,r,dict=True)"
   ]
  },
  {
   "cell_type": "code",
   "execution_count": 8,
   "metadata": {},
   "outputs": [
    {
     "data": {
      "image/png": "[encoded data removed]",
      "text/latex": [
       "$\\displaystyle \\left[ \\left\\{ nm_{1} : - 0.5 \\sqrt{\\frac{1}{s_{1} s_{2}}} \\left(m_{1} s_{2} + m_{2} s_{1}\\right), \\  nm_{2} : - 0.5 \\sqrt{\\frac{1}{s_{1} s_{2}}} \\left(- m_{1} s_{2} + m_{2} s_{1}\\right), \\  r : - 0.707106781186548 i \\sqrt[4]{s_{1}^{2} s_{2}^{2}}\\right\\}, \\  \\left\\{ nm_{1} : - 0.5 \\sqrt{\\frac{1}{s_{1} s_{2}}} \\left(m_{1} s_{2} + m_{2} s_{1}\\right), \\  nm_{2} : - 0.5 \\sqrt{\\frac{1}{s_{1} s_{2}}} \\left(- m_{1} s_{2} + m_{2} s_{1}\\right), \\  r : 0.707106781186548 i \\sqrt[4]{s_{1}^{2} s_{2}^{2}}\\right\\}, \\  \\left\\{ nm_{1} : - 0.5 \\sqrt{\\frac{1}{s_{1} s_{2}}} \\left(m_{1} s_{2} + m_{2} s_{1}\\right), \\  nm_{2} : - 0.5 \\sqrt{\\frac{1}{s_{1} s_{2}}} \\left(- m_{1} s_{2} + m_{2} s_{1}\\right), \\  r : - 0.707106781186548 \\sqrt[4]{s_{1}^{2} s_{2}^{2}}\\right\\}, \\  \\left\\{ nm_{1} : - 0.5 \\sqrt{\\frac{1}{s_{1} s_{2}}} \\left(m_{1} s_{2} + m_{2} s_{1}\\right), \\  nm_{2} : - 0.5 \\sqrt{\\frac{1}{s_{1} s_{2}}} \\left(- m_{1} s_{2} + m_{2} s_{1}\\right), \\  r : 0.707106781186548 \\sqrt[4]{s_{1}^{2} s_{2}^{2}}\\right\\}, \\  \\left\\{ nm_{1} : - 0.5 \\sqrt{\\frac{1}{s_{1} s_{2}}} \\left(m_{1} s_{2} + m_{2} s_{1}\\right), \\  nm_{2} : 0.5 \\sqrt{\\frac{1}{s_{1} s_{2}}} \\left(- m_{1} s_{2} + m_{2} s_{1}\\right), \\  r : - 0.707106781186548 i \\sqrt[4]{s_{1}^{2} s_{2}^{2}}\\right\\}, \\  \\left\\{ nm_{1} : - 0.5 \\sqrt{\\frac{1}{s_{1} s_{2}}} \\left(m_{1} s_{2} + m_{2} s_{1}\\right), \\  nm_{2} : 0.5 \\sqrt{\\frac{1}{s_{1} s_{2}}} \\left(- m_{1} s_{2} + m_{2} s_{1}\\right), \\  r : 0.707106781186548 i \\sqrt[4]{s_{1}^{2} s_{2}^{2}}\\right\\}, \\  \\left\\{ nm_{1} : - 0.5 \\sqrt{\\frac{1}{s_{1} s_{2}}} \\left(m_{1} s_{2} + m_{2} s_{1}\\right), \\  nm_{2} : 0.5 \\sqrt{\\frac{1}{s_{1} s_{2}}} \\left(- m_{1} s_{2} + m_{2} s_{1}\\right), \\  r : - 0.707106781186548 \\sqrt[4]{s_{1}^{2} s_{2}^{2}}\\right\\}, \\  \\left\\{ nm_{1} : - 0.5 \\sqrt{\\frac{1}{s_{1} s_{2}}} \\left(m_{1} s_{2} + m_{2} s_{1}\\right), \\  nm_{2} : 0.5 \\sqrt{\\frac{1}{s_{1} s_{2}}} \\left(- m_{1} s_{2} + m_{2} s_{1}\\right), \\  r : 0.707106781186548 \\sqrt[4]{s_{1}^{2} s_{2}^{2}}\\right\\}, \\  \\left\\{ nm_{1} : 0.5 \\sqrt{\\frac{1}{s_{1} s_{2}}} \\left(m_{1} s_{2} + m_{2} s_{1}\\right), \\  nm_{2} : - 0.5 \\sqrt{\\frac{1}{s_{1} s_{2}}} \\left(- m_{1} s_{2} + m_{2} s_{1}\\right), \\  r : - 0.707106781186548 i \\sqrt[4]{s_{1}^{2} s_{2}^{2}}\\right\\}, \\  \\left\\{ nm_{1} : 0.5 \\sqrt{\\frac{1}{s_{1} s_{2}}} \\left(m_{1} s_{2} + m_{2} s_{1}\\right), \\  nm_{2} : - 0.5 \\sqrt{\\frac{1}{s_{1} s_{2}}} \\left(- m_{1} s_{2} + m_{2} s_{1}\\right), \\  r : 0.707106781186548 i \\sqrt[4]{s_{1}^{2} s_{2}^{2}}\\right\\}, \\  \\left\\{ nm_{1} : 0.5 \\sqrt{\\frac{1}{s_{1} s_{2}}} \\left(m_{1} s_{2} + m_{2} s_{1}\\right), \\  nm_{2} : - 0.5 \\sqrt{\\frac{1}{s_{1} s_{2}}} \\left(- m_{1} s_{2} + m_{2} s_{1}\\right), \\  r : - 0.707106781186548 \\sqrt[4]{s_{1}^{2} s_{2}^{2}}\\right\\}, \\  \\left\\{ nm_{1} : 0.5 \\sqrt{\\frac{1}{s_{1} s_{2}}} \\left(m_{1} s_{2} + m_{2} s_{1}\\right), \\  nm_{2} : - 0.5 \\sqrt{\\frac{1}{s_{1} s_{2}}} \\left(- m_{1} s_{2} + m_{2} s_{1}\\right), \\  r : 0.707106781186548 \\sqrt[4]{s_{1}^{2} s_{2}^{2}}\\right\\}, \\  \\left\\{ nm_{1} : 0.5 \\sqrt{\\frac{1}{s_{1} s_{2}}} \\left(m_{1} s_{2} + m_{2} s_{1}\\right), \\  nm_{2} : 0.5 \\sqrt{\\frac{1}{s_{1} s_{2}}} \\left(- m_{1} s_{2} + m_{2} s_{1}\\right), \\  r : - 0.707106781186548 i \\sqrt[4]{s_{1}^{2} s_{2}^{2}}\\right\\}, \\  \\left\\{ nm_{1} : 0.5 \\sqrt{\\frac{1}{s_{1} s_{2}}} \\left(m_{1} s_{2} + m_{2} s_{1}\\right), \\  nm_{2} : 0.5 \\sqrt{\\frac{1}{s_{1} s_{2}}} \\left(- m_{1} s_{2} + m_{2} s_{1}\\right), \\  r : 0.707106781186548 i \\sqrt[4]{s_{1}^{2} s_{2}^{2}}\\right\\}, \\  \\left\\{ nm_{1} : 0.5 \\sqrt{\\frac{1}{s_{1} s_{2}}} \\left(m_{1} s_{2} + m_{2} s_{1}\\right), \\  nm_{2} : 0.5 \\sqrt{\\frac{1}{s_{1} s_{2}}} \\left(- m_{1} s_{2} + m_{2} s_{1}\\right), \\  r : - 0.707106781186548 \\sqrt[4]{s_{1}^{2} s_{2}^{2}}\\right\\}, \\  \\left\\{ nm_{1} : 0.5 \\sqrt{\\frac{1}{s_{1} s_{2}}} \\left(m_{1} s_{2} + m_{2} s_{1}\\right), \\  nm_{2} : 0.5 \\sqrt{\\frac{1}{s_{1} s_{2}}} \\left(- m_{1} s_{2} + m_{2} s_{1}\\right), \\  r : 0.707106781186548 \\sqrt[4]{s_{1}^{2} s_{2}^{2}}\\right\\}\\right]$"
      ],
      "text/plain": [
       "⎡⎧              _______                                _______                \n",
       "⎢⎪             ╱   1                                  ╱   1                   \n",
       "⎢⎨nm₁: -0.5⋅  ╱  ───── ⋅(m₁⋅s₂ + m₂⋅s₁), nm₂: -0.5⋅  ╱  ───── ⋅(-m₁⋅s₂ + m₂⋅s₁\n",
       "⎢⎪          ╲╱   s₁⋅s₂                             ╲╱   s₁⋅s₂                 \n",
       "⎣⎩                                                                            \n",
       "\n",
       "                              _________⎫  ⎧              _______              \n",
       "                           4 ╱   2   2 ⎪  ⎪             ╱   1                 \n",
       "), r: -0.707106781186548⋅ⅈ⋅╲╱  s₁ ⋅s₂  ⎬, ⎨nm₁: -0.5⋅  ╱  ───── ⋅(m₁⋅s₂ + m₂⋅s\n",
       "                                       ⎪  ⎪          ╲╱   s₁⋅s₂               \n",
       "                                       ⎭  ⎩                                   \n",
       "\n",
       "                  _______                                             ________\n",
       "                 ╱   1                                             4 ╱   2   2\n",
       "₁), nm₂: -0.5⋅  ╱  ───── ⋅(-m₁⋅s₂ + m₂⋅s₁), r: 0.707106781186548⋅ⅈ⋅╲╱  s₁ ⋅s₂ \n",
       "              ╲╱   s₁⋅s₂                                                      \n",
       "                                                                              \n",
       "\n",
       "_⎫  ⎧              _______                                _______             \n",
       " ⎪  ⎪             ╱   1                                  ╱   1                \n",
       " ⎬, ⎨nm₁: -0.5⋅  ╱  ───── ⋅(m₁⋅s₂ + m₂⋅s₁), nm₂: -0.5⋅  ╱  ───── ⋅(-m₁⋅s₂ + m₂\n",
       " ⎪  ⎪          ╲╱   s₁⋅s₂                             ╲╱   s₁⋅s₂              \n",
       " ⎭  ⎩                                                                         \n",
       "\n",
       "                               _________⎫  ⎧              _______             \n",
       "                            4 ╱   2   2 ⎪  ⎪             ╱   1                \n",
       "⋅s₁), r: -0.707106781186548⋅╲╱  s₁ ⋅s₂  ⎬, ⎨nm₁: -0.5⋅  ╱  ───── ⋅(m₁⋅s₂ + m₂⋅\n",
       "                                        ⎪  ⎪          ╲╱   s₁⋅s₂              \n",
       "                                        ⎭  ⎩                                  \n",
       "\n",
       "                   _______                                           _________\n",
       "                  ╱   1                                           4 ╱   2   2 \n",
       "s₁), nm₂: -0.5⋅  ╱  ───── ⋅(-m₁⋅s₂ + m₂⋅s₁), r: 0.707106781186548⋅╲╱  s₁ ⋅s₂  \n",
       "               ╲╱   s₁⋅s₂                                                     \n",
       "                                                                              \n",
       "\n",
       "⎫  ⎧              _______                               _______               \n",
       "⎪  ⎪             ╱   1                                 ╱   1                  \n",
       "⎬, ⎨nm₁: -0.5⋅  ╱  ───── ⋅(m₁⋅s₂ + m₂⋅s₁), nm₂: 0.5⋅  ╱  ───── ⋅(-m₁⋅s₂ + m₂⋅s\n",
       "⎪  ⎪          ╲╱   s₁⋅s₂                            ╲╱   s₁⋅s₂                \n",
       "⎭  ⎩                                                                          \n",
       "\n",
       "                               _________⎫  ⎧              _______             \n",
       "                            4 ╱   2   2 ⎪  ⎪             ╱   1                \n",
       "₁), r: -0.707106781186548⋅ⅈ⋅╲╱  s₁ ⋅s₂  ⎬, ⎨nm₁: -0.5⋅  ╱  ───── ⋅(m₁⋅s₂ + m₂⋅\n",
       "                                        ⎪  ⎪          ╲╱   s₁⋅s₂              \n",
       "                                        ⎭  ⎩                                  \n",
       "\n",
       "                  _______                                             ________\n",
       "                 ╱   1                                             4 ╱   2   2\n",
       "s₁), nm₂: 0.5⋅  ╱  ───── ⋅(-m₁⋅s₂ + m₂⋅s₁), r: 0.707106781186548⋅ⅈ⋅╲╱  s₁ ⋅s₂ \n",
       "              ╲╱   s₁⋅s₂                                                      \n",
       "                                                                              \n",
       "\n",
       "_⎫  ⎧              _______                               _______              \n",
       " ⎪  ⎪             ╱   1                                 ╱   1                 \n",
       " ⎬, ⎨nm₁: -0.5⋅  ╱  ───── ⋅(m₁⋅s₂ + m₂⋅s₁), nm₂: 0.5⋅  ╱  ───── ⋅(-m₁⋅s₂ + m₂⋅\n",
       " ⎪  ⎪          ╲╱   s₁⋅s₂                            ╲╱   s₁⋅s₂               \n",
       " ⎭  ⎩                                                                         \n",
       "\n",
       "                              _________⎫  ⎧              _______              \n",
       "                           4 ╱   2   2 ⎪  ⎪             ╱   1                 \n",
       "s₁), r: -0.707106781186548⋅╲╱  s₁ ⋅s₂  ⎬, ⎨nm₁: -0.5⋅  ╱  ───── ⋅(m₁⋅s₂ + m₂⋅s\n",
       "                                       ⎪  ⎪          ╲╱   s₁⋅s₂               \n",
       "                                       ⎭  ⎩                                   \n",
       "\n",
       "                 _______                                           _________⎫ \n",
       "                ╱   1                                           4 ╱   2   2 ⎪ \n",
       "₁), nm₂: 0.5⋅  ╱  ───── ⋅(-m₁⋅s₂ + m₂⋅s₁), r: 0.707106781186548⋅╲╱  s₁ ⋅s₂  ⎬,\n",
       "             ╲╱   s₁⋅s₂                                                     ⎪ \n",
       "                                                                            ⎭ \n",
       "\n",
       " ⎧             _______                                _______                 \n",
       " ⎪            ╱   1                                  ╱   1                    \n",
       " ⎨nm₁: 0.5⋅  ╱  ───── ⋅(m₁⋅s₂ + m₂⋅s₁), nm₂: -0.5⋅  ╱  ───── ⋅(-m₁⋅s₂ + m₂⋅s₁)\n",
       " ⎪         ╲╱   s₁⋅s₂                             ╲╱   s₁⋅s₂                  \n",
       " ⎩                                                                            \n",
       "\n",
       "                             _________⎫  ⎧             _______                \n",
       "                          4 ╱   2   2 ⎪  ⎪            ╱   1                   \n",
       ", r: -0.707106781186548⋅ⅈ⋅╲╱  s₁ ⋅s₂  ⎬, ⎨nm₁: 0.5⋅  ╱  ───── ⋅(m₁⋅s₂ + m₂⋅s₁)\n",
       "                                      ⎪  ⎪         ╲╱   s₁⋅s₂                 \n",
       "                                      ⎭  ⎩                                    \n",
       "\n",
       "                _______                                             _________⎫\n",
       "               ╱   1                                             4 ╱   2   2 ⎪\n",
       ", nm₂: -0.5⋅  ╱  ───── ⋅(-m₁⋅s₂ + m₂⋅s₁), r: 0.707106781186548⋅ⅈ⋅╲╱  s₁ ⋅s₂  ⎬\n",
       "            ╲╱   s₁⋅s₂                                                       ⎪\n",
       "                                                                             ⎭\n",
       "\n",
       "  ⎧             _______                                _______                \n",
       "  ⎪            ╱   1                                  ╱   1                   \n",
       ", ⎨nm₁: 0.5⋅  ╱  ───── ⋅(m₁⋅s₂ + m₂⋅s₁), nm₂: -0.5⋅  ╱  ───── ⋅(-m₁⋅s₂ + m₂⋅s₁\n",
       "  ⎪         ╲╱   s₁⋅s₂                             ╲╱   s₁⋅s₂                 \n",
       "  ⎩                                                                           \n",
       "\n",
       "                            _________⎫  ⎧             _______                 \n",
       "                         4 ╱   2   2 ⎪  ⎪            ╱   1                    \n",
       "), r: -0.707106781186548⋅╲╱  s₁ ⋅s₂  ⎬, ⎨nm₁: 0.5⋅  ╱  ───── ⋅(m₁⋅s₂ + m₂⋅s₁),\n",
       "                                     ⎪  ⎪         ╲╱   s₁⋅s₂                  \n",
       "                                     ⎭  ⎩                                     \n",
       "\n",
       "               _______                                           _________⎫  ⎧\n",
       "              ╱   1                                           4 ╱   2   2 ⎪  ⎪\n",
       " nm₂: -0.5⋅  ╱  ───── ⋅(-m₁⋅s₂ + m₂⋅s₁), r: 0.707106781186548⋅╲╱  s₁ ⋅s₂  ⎬, ⎨\n",
       "           ╲╱   s₁⋅s₂                                                     ⎪  ⎪\n",
       "                                                                          ⎭  ⎩\n",
       "\n",
       "             _______                               _______                    \n",
       "            ╱   1                                 ╱   1                       \n",
       "nm₁: 0.5⋅  ╱  ───── ⋅(m₁⋅s₂ + m₂⋅s₁), nm₂: 0.5⋅  ╱  ───── ⋅(-m₁⋅s₂ + m₂⋅s₁), r\n",
       "         ╲╱   s₁⋅s₂                            ╲╱   s₁⋅s₂                     \n",
       "                                                                              \n",
       "\n",
       "                          _________⎫  ⎧             _______                   \n",
       "                       4 ╱   2   2 ⎪  ⎪            ╱   1                      \n",
       ": -0.707106781186548⋅ⅈ⋅╲╱  s₁ ⋅s₂  ⎬, ⎨nm₁: 0.5⋅  ╱  ───── ⋅(m₁⋅s₂ + m₂⋅s₁), n\n",
       "                                   ⎪  ⎪         ╲╱   s₁⋅s₂                    \n",
       "                                   ⎭  ⎩                                       \n",
       "\n",
       "            _______                                             _________⎫  ⎧ \n",
       "           ╱   1                                             4 ╱   2   2 ⎪  ⎪ \n",
       "m₂: 0.5⋅  ╱  ───── ⋅(-m₁⋅s₂ + m₂⋅s₁), r: 0.707106781186548⋅ⅈ⋅╲╱  s₁ ⋅s₂  ⎬, ⎨n\n",
       "        ╲╱   s₁⋅s₂                                                       ⎪  ⎪ \n",
       "                                                                         ⎭  ⎩ \n",
       "\n",
       "            _______                               _______                     \n",
       "           ╱   1                                 ╱   1                        \n",
       "m₁: 0.5⋅  ╱  ───── ⋅(m₁⋅s₂ + m₂⋅s₁), nm₂: 0.5⋅  ╱  ───── ⋅(-m₁⋅s₂ + m₂⋅s₁), r:\n",
       "        ╲╱   s₁⋅s₂                            ╲╱   s₁⋅s₂                      \n",
       "                                                                              \n",
       "\n",
       "                       _________⎫  ⎧             _______                      \n",
       "                    4 ╱   2   2 ⎪  ⎪            ╱   1                         \n",
       " -0.707106781186548⋅╲╱  s₁ ⋅s₂  ⎬, ⎨nm₁: 0.5⋅  ╱  ───── ⋅(m₁⋅s₂ + m₂⋅s₁), nm₂:\n",
       "                                ⎪  ⎪         ╲╱   s₁⋅s₂                       \n",
       "                                ⎭  ⎩                                          \n",
       "\n",
       "         _______                                           _________⎫⎤\n",
       "        ╱   1                                           4 ╱   2   2 ⎪⎥\n",
       " 0.5⋅  ╱  ───── ⋅(-m₁⋅s₂ + m₂⋅s₁), r: 0.707106781186548⋅╲╱  s₁ ⋅s₂  ⎬⎥\n",
       "     ╲╱   s₁⋅s₂                                                     ⎪⎥\n",
       "                                                                    ⎭⎦"
      ]
     },
     "execution_count": 8,
     "metadata": {},
     "output_type": "execute_result"
    }
   ],
   "source": [
    "soln"
   ]
  },
  {
   "cell_type": "code",
   "execution_count": 9,
   "metadata": {},
   "outputs": [
    {
     "data": {
      "image/png": "[encoded data removed]",
      "text/latex": [
       "$\\displaystyle \\left( 0.707106781186548 \\sqrt{m_{1} m_{2} + \\frac{0.5 \\left(m_{1}^{2} s_{2}^{2} + m_{2}^{2} s_{1}^{2}\\right)}{s_{1} s_{2}}}, \\  0.707106781186547 \\sqrt{- m_{1} m_{2} + \\frac{0.5 \\left(m_{1}^{2} s_{2}^{2} + m_{2}^{2} s_{1}^{2}\\right)}{s_{1} s_{2}}}, \\  \\frac{\\sqrt{2} \\sqrt{s_{1} s_{2}}}{2}\\right)$"
      ],
      "text/plain": [
       "⎛                       _________________________________                     \n",
       "⎜                      ╱             ⎛  2   2     2   2⎞                      \n",
       "⎜                     ╱          0.5⋅⎝m₁ ⋅s₂  + m₂ ⋅s₁ ⎠                      \n",
       "⎜0.707106781186548⋅  ╱   m₁⋅m₂ + ─────────────────────── , 0.707106781186547⋅ \n",
       "⎝                  ╲╱                     s₁⋅s₂                              ╲\n",
       "\n",
       "    __________________________________              ⎞\n",
       "   ╱              ⎛  2   2     2   2⎞        _______⎟\n",
       "  ╱           0.5⋅⎝m₁ ⋅s₂  + m₂ ⋅s₁ ⎠   √2⋅╲╱ s₁⋅s₂ ⎟\n",
       " ╱   -m₁⋅m₂ + ─────────────────────── , ────────────⎟\n",
       "╱                      s₁⋅s₂                 2      ⎠"
      ]
     },
     "execution_count": 9,
     "metadata": {},
     "output_type": "execute_result"
    }
   ],
   "source": [
    "nm1=sqrt(1/2*(m1*m2+1/2*((m1**2*s2**2+m2**2*s1**2)/(s1*s2))))\n",
    "nm2=sqrt(nm1**2-m1*m2)\n",
    "r=sqrt(s1*s2/2)\n",
    "(nm1,nm2,r)"
   ]
  },
  {
   "cell_type": "code",
   "execution_count": 10,
   "metadata": {},
   "outputs": [
    {
     "data": {
      "image/png": "[encoded data removed]",
      "text/latex": [
       "$\\displaystyle \\left( 0.317647058823529, \\  1.06764705882353, \\  - 0.714142842854285 \\sqrt{0.0159687194226713 \\sqrt{2} + 0.1}, \\  - 0.714142842854285 \\sqrt{0.1 - 0.0159687194226713 \\sqrt{2}}\\right)$"
      ],
      "text/plain": [
       "⎛                                                          ___________________\n",
       "⎝0.317647058823529, 1.06764705882353, -0.714142842854285⋅╲╱ 0.0159687194226713\n",
       "\n",
       "__________                       _____________________________⎞\n",
       "⋅√2 + 0.1 , -0.714142842854285⋅╲╱ 0.1 - 0.0159687194226713⋅√2 ⎠"
      ]
     },
     "execution_count": 10,
     "metadata": {},
     "output_type": "execute_result"
    }
   ],
   "source": [
    "eqnsrho=[m1*m2-l1+l2,(m1**2*s2**2+m2**2*s1**2-2*r*m1*m2*s1*s2)-4*r1**2*l2-4*r2**2*l1,r*s1*s2-r1**2+r2**2,(s1*s2)**2*(1-r**2)-4*r1**2*r2**2]\n",
    "sln2=solve(eqnsrho,l1,l2,r1,r2,dict=True)\n",
    "sln2\n",
    "\n",
    "mm1=-1.5;ss1=1.02;mm2=0.5;ss2=0.1;rr=0.1\n",
    "\n",
    "j=4\n",
    "(sln2[j][l1].subs([(m1,mm1),(m2,mm2),(s1,ss1),(s2,ss2),(r,rr)]),sln2[j][l2].subs([(m1,mm1),(m2,mm2),(s1,ss1),(s2,ss2),(r,rr)]),sln2[j][r1].subs([(m1,mm1),(m2,mm2),(s1,ss1),(s2,ss2),(r,rr)]),\\\n",
    " sln2[j][r2].subs([(m1,mm1),(m2,mm2),(s1,ss1),(s2,ss2),(r,rr)]))\n",
    "\n",
    "\n",
    "\n",
    "#(sln2[0][l1],sln2[0][l2],sln2[0][r1],sln2[0][r2])"
   ]
  },
  {
   "cell_type": "code",
   "execution_count": 11,
   "metadata": {},
   "outputs": [
    {
     "name": "stdout",
     "output_type": "stream",
     "text": [
      "\\left[ - l_{1} + l_{2} + m_{1} m_{2}, \\  - 4 l_{1} r_{2}^{2} - 4 l_{2} r_{1}^{2} + m_{1}^{2} s_{2}^{2} - \\sqrt{2} m_{1} m_{2} s_{1} s_{2} \\sqrt{s_{1} s_{2}} + m_{2}^{2} s_{1}^{2}, \\  - r_{1}^{2} + r_{2}^{2} + \\frac{\\sqrt{2} s_{1} s_{2} \\sqrt{s_{1} s_{2}}}{2}, \\  - 4 r_{1}^{2} r_{2}^{2} + s_{1}^{2} s_{2}^{2} \\left(- \\frac{s_{1} s_{2}}{2} + 1\\right)\\right]\n"
     ]
    }
   ],
   "source": [
    "eqnsrho=[m1*m2-l1+l2,(m1**2*s2**2+m2**2*s1**2-2*r*m1*m2*s1*s2)-4*r1**2*l2-4*r2**2*l1,r*s1*s2-r1**2+r2**2,(s1*s2)**2*(1-r**2)-4*r1**2*r2**2]\n",
    "print(latex(eqnsrho))"
   ]
  },
  {
   "cell_type": "code",
   "execution_count": 12,
   "metadata": {},
   "outputs": [],
   "source": [
    "chrfuncorrprd=exp(((1/2*t**2*(m1**2*s2**2+m2**2*s1**2-2*r*m1*m2*s1*s2)+m1*m2*t)/((1-(1+r)*s1*s2*t)*(1+(1-r)*(s1*s2)*t))))/sqrt(((1-(1+r)*s1*s2*t)*(1+(1-r)*(s1*s2)*t)))"
   ]
  },
  {
   "cell_type": "code",
   "execution_count": 13,
   "metadata": {},
   "outputs": [
    {
     "data": {
      "image/png": "[encoded data removed]",
      "text/latex": [
       "$\\displaystyle \\left( 0.317647058823529, \\  1.06764705882353, \\  0.198702235552475, \\  0.250034840745143\\right)$"
      ],
      "text/plain": [
       "(0.317647058823529, 1.06764705882353, 0.198702235552475, 0.250034840745143)"
      ]
     },
     "execution_count": 13,
     "metadata": {},
     "output_type": "execute_result"
    }
   ],
   "source": [
    "mm1=-1.5;ss1=1.02;mm2=0.5;ss2=0.1;rr=0.1\n",
    "\n",
    "r2=sqrt(s1*s2*(1-r)/2)\n",
    "r1=sqrt(r*s1*s2+r2**2)\n",
    "rv1,rv2=r2.subs([(s1,ss1),(s2,ss2),(r,rr)]),r1.subs([(s1,ss1),(s2,ss2),(r,rr)])\n",
    "l1=((m1**2*s2**2+m2**2*s1**2-2*r*m1*m2*s1*s2)+4*m1*m2*r1**2)/(4*r1**2+4*r2**2)\n",
    "l2=l1-m1*m2\n",
    "ll1,ll2=l1.subs([(m1,mm1),(m2,mm2),(s1,ss1),(s2,ss2),(r,rr)]),l2.subs([(m1,mm1),(m2,mm2),(s1,ss1),(s2,ss2),(r,rr)])\n",
    "ll1.evalf(),ll2.evalf(),rv1.evalf(),rv2.evalf()"
   ]
  },
  {
   "cell_type": "code",
   "execution_count": 14,
   "metadata": {},
   "outputs": [
    {
     "data": {
      "image/png": "[encoded data removed]",
      "text/latex": [
       "$\\displaystyle - \\frac{1}{\\sqrt{0.796 - 0.0325761876222495 \\sqrt{2}} \\sqrt{1.204 - 0.0325761876222495 \\sqrt{2}} e^{- \\frac{-0.9348 + 0.0488642814333742 \\sqrt{2}}{\\left(0.796 - 0.0325761876222495 \\sqrt{2}\\right) \\left(1.204 - 0.0325761876222495 \\sqrt{2}\\right)}}} + \\frac{1}{\\sqrt{0.796 - 0.0325761876222495 \\sqrt{2}} \\sqrt{1.204 - 0.0325761876222495 \\sqrt{2}} e^{\\frac{-0.635294117647059 + 1.70070929017334 \\cdot 10^{-17} \\sqrt{2}}{0.796 - 0.0325761876222495 \\sqrt{2}} + \\frac{2.13529411764706 - 1.70070929017334 \\cdot 10^{-17} \\sqrt{2}}{1.204 - 0.0325761876222495 \\sqrt{2}}}}$"
      ],
      "text/plain": [
       "                     -0.9348 + 0.0488642814333742⋅√2                       2.1\n",
       "     ───────────────────────────────────────────────────────────────     - ───\n",
       "     (0.796 - 0.0325761876222495⋅√2)⋅(1.204 - 0.0325761876222495⋅√2)          \n",
       "    ℯ                                                                   ℯ     \n",
       "- ─────────────────────────────────────────────────────────────────── + ──────\n",
       "    _______________________________   _______________________________         \n",
       "  ╲╱ 0.796 - 0.0325761876222495⋅√2 ⋅╲╱ 1.204 - 0.0325761876222495⋅√2          \n",
       "\n",
       "3529411764706 - 1.70070929017334e-17⋅√2   -0.635294117647059 + 1.7007092901733\n",
       "─────────────────────────────────────── - ────────────────────────────────────\n",
       "   1.204 - 0.0325761876222495⋅√2                 0.796 - 0.0325761876222495⋅√2\n",
       "                                                                              \n",
       "──────────────────────────────────────────────────────────────────────────────\n",
       "        _______________________________   _______________________________     \n",
       "      ╲╱ 0.796 - 0.0325761876222495⋅√2 ⋅╲╱ 1.204 - 0.0325761876222495⋅√2      \n",
       "\n",
       "4e-17⋅√2\n",
       "────────\n",
       "        \n",
       "        \n",
       "────────\n",
       "        \n",
       "        "
      ]
     },
     "execution_count": 14,
     "metadata": {},
     "output_type": "execute_result"
    }
   ],
   "source": [
    "\n",
    "chrfuncorrnchi=exp(l1*t/(1-2*r1**2*t)-l2*t/(1+2*r2**2*t))/sqrt((1-2*r1**2*t)*(1+2*r2**2*t))\n",
    "chrfuncorrnchi\n",
    "denom=expand(simplify(l1*t/(1-2*r1**2*t)-l2*t/(1+2*r2**2*t)))\n",
    "denom.subs([(m1,mm1),(m2,mm2),(s1,ss1),(s2,ss2),(l1,l1.subs([(m1,mm1),(m2,mm2),(s1,ss1),(s2,ss2),(r,rr)])),(l2,l2.subs([(m1,mm1),(m2,mm2),(s1,ss1),(s2,ss2),(r,rr)])),(t,1),(r,rr)])\n",
    "chrfuncorrnchi.subs([(m1,mm1),(m2,mm2),(s1,ss1),(s2,ss2),(l1,ll1.evalf()),(l2,ll2.evalf()),(r1,rv1.evalf()),(r2,rv2.evalf()),(t,2),(r,rr)])-chrfuncorrprd.subs([(m1,mm1),(m2,mm2),(s1,ss1),(s2,ss2),(r,rr),(t,2)])\n"
   ]
  },
  {
   "cell_type": "code",
   "execution_count": 15,
   "metadata": {},
   "outputs": [
    {
     "name": "stdout",
     "output_type": "stream",
     "text": [
      "\\frac{m_{1}^{2} s_{2}^{2} - \\sqrt{2} m_{1} m_{2} s_{1} s_{2} \\sqrt{s_{1} s_{2}} + 4 m_{1} m_{2} \\left(\\frac{\\sqrt{2} s_{1} s_{2} \\sqrt{s_{1} s_{2}}}{2} + \\frac{s_{1} s_{2} \\left(- \\frac{\\sqrt{2} \\sqrt{s_{1} s_{2}}}{2} + 1\\right)}{2}\\right) + m_{2}^{2} s_{1}^{2}}{2 \\sqrt{2} s_{1} s_{2} \\sqrt{s_{1} s_{2}} + 4 s_{1} s_{2} \\left(- \\frac{\\sqrt{2} \\sqrt{s_{1} s_{2}}}{2} + 1\\right)},\n",
      "- m_{1} m_{2} + \\frac{m_{1}^{2} s_{2}^{2} - \\sqrt{2} m_{1} m_{2} s_{1} s_{2} \\sqrt{s_{1} s_{2}} + 4 m_{1} m_{2} \\left(\\frac{\\sqrt{2} s_{1} s_{2} \\sqrt{s_{1} s_{2}}}{2} + \\frac{s_{1} s_{2} \\left(- \\frac{\\sqrt{2} \\sqrt{s_{1} s_{2}}}{2} + 1\\right)}{2}\\right) + m_{2}^{2} s_{1}^{2}}{2 \\sqrt{2} s_{1} s_{2} \\sqrt{s_{1} s_{2}} + 4 s_{1} s_{2} \\left(- \\frac{\\sqrt{2} \\sqrt{s_{1} s_{2}}}{2} + 1\\right)},\n",
      "\\sqrt{\\frac{\\sqrt{2} s_{1} s_{2} \\sqrt{s_{1} s_{2}}}{2} + \\frac{s_{1} s_{2} \\left(- \\frac{\\sqrt{2} \\sqrt{s_{1} s_{2}}}{2} + 1\\right)}{2}},\n",
      "\\frac{\\sqrt{2} \\sqrt{s_{1} s_{2} \\left(- \\frac{\\sqrt{2} \\sqrt{s_{1} s_{2}}}{2} + 1\\right)}}{2}\n"
     ]
    }
   ],
   "source": [
    "from sympy import latex\n",
    "#print(latex(chrfuncorrnchi))\n",
    "print(latex((l1))+',')\n",
    "print(latex(l2)+',')\n",
    "print(latex(r1)+',')\n",
    "print(latex(r2))"
   ]
  },
  {
   "cell_type": "code",
   "execution_count": 23,
   "metadata": {},
   "outputs": [
    {
     "name": "stdout",
     "output_type": "stream",
     "text": [
      "2.125\n",
      "0.875\n",
      "0.28284271247461906\n"
     ]
    }
   ],
   "source": [
    "mm1=1.5;ss1=0.2;mm2=2.5;ss2=0.8\n",
    "#nmm1=np.sqrt(1)*np.sqrt(1/(ss1*ss2))*(mm1*ss2+mm2*ss1)/2\n",
    "#np.sqrt(2)*np.sqrt(1/(ss1*ss2))*(mm1*ss2+mm2*ss1)/2\n",
    "#-0.5*np.sqrt(1/(ss1*ss2)*(mm1**2*ss2**2+mm2**2*ss1**2+4*mm1*mm2*ss1*ss2))\n",
    "#np.sqrt(2)*np.sqrt(1/(ss1*ss2))*(mm1*ss2+mm2*ss1)/2\n",
    "#nmm2=np.sqrt(1)*np.sqrt(1/(ss1*ss2))*(-mm1*ss2+mm2*ss1)/2\n",
    "#np.sqrt(2)*np.sqrt(1/(ss1*ss2))*(-mm1*ss2+mm2*ss1)/2\n",
    "#-0.5*np.sqrt(1/(ss1*ss2)*(mm1**2*ss2**2+mm2**2*ss1**2-4*mm1*mm2*ss1*ss2))\n",
    "#nmm2=np.sqrt(2)*np.sqrt(1/(ss1*ss2))*(-mm1*ss2+mm2*ss1)/2\n",
    "#nmm2=mm1*mm2/4\n",
    "#nmm1=ss1*ss2*sqrt(nmm2**2+(mm1**2*ss2**2*ss1*ss2+2*mm1*mm2*ss1*ss2+mm2**2*ss1**2*ss1*ss2-nmm2**2*ss1**2*ss2**2))/(ss1**2*ss2**2)-nmm2/(ss1*ss2)\n",
    "rm=np.sqrt(ss1*ss2/2)\n",
    "nmm1=np.sqrt(0.5*(mm1*mm2+0.5*((mm1**2*ss2**2+mm2**2*ss1**2)/(ss1*ss2))))\n",
    "nmm2=np.sqrt(nmm1**2-mm1*mm2)\n",
    "print(nmm1);print(nmm2);print(rm)\n"
   ]
  },
  {
   "cell_type": "code",
   "execution_count": 17,
   "metadata": {},
   "outputs": [
    {
     "data": {
      "image/png": "[encoded data removed]",
      "text/latex": [
       "$\\displaystyle \\left[ 193925.141169676, \\  \\frac{e^{\\frac{2 nm_{1}^{2}}{1 - 4 r^{2}} - \\frac{2 nm_{2}^{2}}{4 r^{2} + 1}}}{\\sqrt{\\left(1 - 4 r^{2}\\right) \\left(4 r^{2} + 1\\right)}}\\right]$"
      ],
      "text/plain": [
       "⎡                            2          2    ⎤\n",
       "⎢                       2⋅nm₁      2⋅nm₂     ⎥\n",
       "⎢                      ──────── - ────────   ⎥\n",
       "⎢                             2      2       ⎥\n",
       "⎢                      1 - 4⋅r    4⋅r  + 1   ⎥\n",
       "⎢                     ℯ                      ⎥\n",
       "⎢193925.141169676, ──────────────────────────⎥\n",
       "⎢                     _______________________⎥\n",
       "⎢                    ╱ ⎛       2⎞ ⎛   2    ⎞ ⎥\n",
       "⎣                  ╲╱  ⎝1 - 4⋅r ⎠⋅⎝4⋅r  + 1⎠ ⎦"
      ]
     },
     "execution_count": 17,
     "metadata": {},
     "output_type": "execute_result"
    }
   ],
   "source": [
    "[chfpr.subs([(m1,mm1),(m2,mm2),(s1,ss1),(s2,ss2),(t,2)]),chfnc.subs([(nm1,nmm1),(nm2,nmm2),(r,rm),(t,2)])]"
   ]
  },
  {
   "attachments": {},
   "cell_type": "markdown",
   "metadata": {},
   "source": [
    "# Edgewoth for $\\rho \\neq 0$ case "
   ]
  },
  {
   "cell_type": "code",
   "execution_count": 18,
   "metadata": {},
   "outputs": [],
   "source": [
    "f=exp((1/2*t**2*(m1**2*s2**2+m2**2*s1**2-2*r*m1*m2*s1*s2)+m1*m2*t)/((1-(1+r)*s1*s2*t)*(1+(1-r)*(s1*s2)*t)))/sqrt(((1-(1+r)*s1*s2*t)*(1+(1-r)*(s1*s2)*t)))\n",
    "lf=log(f)"
   ]
  },
  {
   "cell_type": "code",
   "execution_count": 19,
   "metadata": {},
   "outputs": [
    {
     "data": {
      "image/png": "[encoded data removed]",
      "text/latex": [
       "$\\displaystyle m_{1} m_{2} + \\frac{\\sqrt{2} \\left(s_{1} s_{2}\\right)^{\\frac{3}{2}}}{2}$"
      ],
      "text/plain": [
       "                  3/2\n",
       "        √2⋅(s₁⋅s₂)   \n",
       "m₁⋅m₂ + ─────────────\n",
       "              2      "
      ]
     },
     "execution_count": 19,
     "metadata": {},
     "output_type": "execute_result"
    }
   ],
   "source": [
    "simplify(lf.diff(t,1).subs(t,0))"
   ]
  },
  {
   "cell_type": "code",
   "execution_count": 20,
   "metadata": {},
   "outputs": [
    {
     "data": {
      "image/png": "[encoded data removed]",
      "text/latex": [
       "$\\displaystyle m_{1}^{2} s_{2}^{2} + \\sqrt{2} m_{1} m_{2} \\left(s_{1} s_{2}\\right)^{\\frac{3}{2}} + m_{2}^{2} s_{1}^{2} + \\frac{s_{1}^{3} s_{2}^{3}}{2} + s_{1}^{2} s_{2}^{2}$"
      ],
      "text/plain": [
       "                                            3   3          \n",
       "  2   2                   3/2     2   2   s₁ ⋅s₂      2   2\n",
       "m₁ ⋅s₂  + √2⋅m₁⋅m₂⋅(s₁⋅s₂)    + m₂ ⋅s₁  + ─────── + s₁ ⋅s₂ \n",
       "                                             2             "
      ]
     },
     "execution_count": 20,
     "metadata": {},
     "output_type": "execute_result"
    }
   ],
   "source": [
    "simplify(lf.diff(t,2).subs(t,0))"
   ]
  },
  {
   "cell_type": "code",
   "execution_count": 21,
   "metadata": {},
   "outputs": [
    {
     "data": {
      "image/png": "[encoded data removed]",
      "text/latex": [
       "$\\displaystyle 3.0 \\sqrt{2} m_{1}^{2} s_{2}^{2} \\left(s_{1} s_{2}\\right)^{\\frac{3}{2}} + 3.0 m_{1} m_{2} s_{1}^{3} s_{2}^{3} + 6.0 m_{1} m_{2} s_{1}^{2} s_{2}^{2} + 3.0 \\sqrt{2} m_{2}^{2} s_{1}^{2} \\left(s_{1} s_{2}\\right)^{\\frac{3}{2}} + 0.5 \\sqrt{2} \\left(s_{1} s_{2}\\right)^{\\frac{9}{2}} + 3.0 \\sqrt{2} \\left(s_{1} s_{2}\\right)^{\\frac{7}{2}}$"
      ],
      "text/plain": [
       "         2   2        3/2               3   3               2   2            2\n",
       "3.0⋅√2⋅m₁ ⋅s₂ ⋅(s₁⋅s₂)    + 3.0⋅m₁⋅m₂⋅s₁ ⋅s₂  + 6.0⋅m₁⋅m₂⋅s₁ ⋅s₂  + 3.0⋅√2⋅m₂ \n",
       "\n",
       "   2        3/2                 9/2                 7/2\n",
       "⋅s₁ ⋅(s₁⋅s₂)    + 0.5⋅√2⋅(s₁⋅s₂)    + 3.0⋅√2⋅(s₁⋅s₂)   "
      ]
     },
     "execution_count": 21,
     "metadata": {},
     "output_type": "execute_result"
    }
   ],
   "source": [
    "simplify(lf.diff(t,3).subs(t,0))"
   ]
  },
  {
   "cell_type": "code",
   "execution_count": 22,
   "metadata": {},
   "outputs": [
    {
     "name": "stdout",
     "output_type": "stream",
     "text": [
      "3.0 \\sqrt{2} m_{1}^{2} s_{2}^{2} \\left(s_{1} s_{2}\\right)^{\\frac{3}{2}} + 3.0 m_{1} m_{2} s_{1}^{3} s_{2}^{3} + 6.0 m_{1} m_{2} s_{1}^{2} s_{2}^{2} + 3.0 \\sqrt{2} m_{2}^{2} s_{1}^{2} \\left(s_{1} s_{2}\\right)^{\\frac{3}{2}} + 0.5 \\sqrt{2} \\left(s_{1} s_{2}\\right)^{\\frac{9}{2}} + 3.0 \\sqrt{2} \\left(s_{1} s_{2}\\right)^{\\frac{7}{2}}\n"
     ]
    }
   ],
   "source": [
    "print(latex(simplify(lf.diff(t,3).subs(t,0))))"
   ]
  },
  {
   "cell_type": "code",
   "execution_count": 23,
   "metadata": {},
   "outputs": [
    {
     "name": "stdout",
     "output_type": "stream",
     "text": [
      "18.0 m_{1}^{2} s_{1}^{3} s_{2}^{5} + 12.0 m_{1}^{2} s_{1}^{2} s_{2}^{4} + 6.0 \\sqrt{2} m_{1} m_{2} \\left(s_{1} s_{2}\\right)^{\\frac{9}{2}} + 36.0 \\sqrt{2} m_{1} m_{2} \\left(s_{1} s_{2}\\right)^{\\frac{7}{2}} + 18.0 m_{2}^{2} s_{1}^{5} s_{2}^{3} + 12.0 m_{2}^{2} s_{1}^{4} s_{2}^{2} + 1.5 s_{1}^{6} s_{2}^{6} + 18.0 s_{1}^{5} s_{2}^{5} + 6.0 s_{1}^{4} s_{2}^{4}\n"
     ]
    }
   ],
   "source": [
    "print(latex(simplify(lf.diff(t,4).subs(t,0))))"
   ]
  },
  {
   "cell_type": "code",
   "execution_count": 24,
   "metadata": {},
   "outputs": [
    {
     "data": {
      "image/png": "[encoded data removed]",
      "text/latex": [
       "$\\displaystyle 60.0 \\sqrt{2} m_{1}^{2} s_{2}^{2} \\left(s_{1} s_{2}\\right)^{\\frac{9}{2}} + 120.0 \\sqrt{2} m_{1}^{2} s_{2}^{2} \\left(s_{1} s_{2}\\right)^{\\frac{7}{2}} + 30.0 m_{1} m_{2} s_{1}^{6} s_{2}^{6} + 360.0 m_{1} m_{2} s_{1}^{5} s_{2}^{5} + 120.0 m_{1} m_{2} s_{1}^{4} s_{2}^{4} + 60.0 \\sqrt{2} m_{2}^{2} s_{1}^{2} \\left(s_{1} s_{2}\\right)^{\\frac{9}{2}} + 120.0 \\sqrt{2} m_{2}^{2} s_{1}^{2} \\left(s_{1} s_{2}\\right)^{\\frac{7}{2}} + 3.0 \\sqrt{2} \\left(s_{1} s_{2}\\right)^{\\frac{15}{2}} + 60.0 \\sqrt{2} \\left(s_{1} s_{2}\\right)^{\\frac{13}{2}} + 60.0 \\sqrt{2} \\left(s_{1} s_{2}\\right)^{\\frac{11}{2}}$"
      ],
      "text/plain": [
       "          2   2        9/2              2   2        7/2                6   6 \n",
       "60.0⋅√2⋅m₁ ⋅s₂ ⋅(s₁⋅s₂)    + 120.0⋅√2⋅m₁ ⋅s₂ ⋅(s₁⋅s₂)    + 30.0⋅m₁⋅m₂⋅s₁ ⋅s₂  \n",
       "\n",
       "                5   5                 4   4             2   2        9/2      \n",
       "+ 360.0⋅m₁⋅m₂⋅s₁ ⋅s₂  + 120.0⋅m₁⋅m₂⋅s₁ ⋅s₂  + 60.0⋅√2⋅m₂ ⋅s₁ ⋅(s₁⋅s₂)    + 120\n",
       "\n",
       "        2   2        7/2                 15/2                  13/2           \n",
       ".0⋅√2⋅m₂ ⋅s₁ ⋅(s₁⋅s₂)    + 3.0⋅√2⋅(s₁⋅s₂)     + 60.0⋅√2⋅(s₁⋅s₂)     + 60.0⋅√2⋅\n",
       "\n",
       "       11/2\n",
       "(s₁⋅s₂)    "
      ]
     },
     "execution_count": 24,
     "metadata": {},
     "output_type": "execute_result"
    }
   ],
   "source": [
    "simplify(lf.diff(t,5).subs(t,0))"
   ]
  },
  {
   "attachments": {},
   "cell_type": "markdown",
   "metadata": {},
   "source": [
    "# Using exact app. $\\chi^{2}(x,\\lambda)$ cdf"
   ]
  },
  {
   "cell_type": "code",
   "execution_count": 25,
   "metadata": {},
   "outputs": [
    {
     "name": "stdout",
     "output_type": "stream",
     "text": [
      "0.75 0.25 1.4142135623730951\n"
     ]
    }
   ],
   "source": [
    "mm1=1.0;ss1=2.0;mm2=0.5;ss2=2.0;rr=0.0\n",
    "rm=np.sqrt(ss1*ss2/2)\n",
    "nmm1=np.sqrt(0.5*(mm1*mm2+0.5*((mm1**2*ss2**2+mm2**2*ss1**2)/(ss1*ss2))))\n",
    "nmm2=np.sqrt(nmm1**2-mm1*mm2)\n",
    "#nc=(nmm1-nmm2)**2/4.0\n",
    "#f=lambda x,z,nmm1,nmm2,sgm:ncx2.pdf(x,1,float((nmm1-nmm2)**2/4),loc=0.0,scale=sgm/2)*ncx2.pdf(x+z,1,float((nmm1+nmm2)**2/4),loc=0.0,scale=sgm/2)\n",
    "#cf=lambda x,z,nmm1,nmm2,sgm:ncx2.pdf(x,1,float((nmm1-nmm2)**2/4),loc=0.0,scale=sgm/2)*ncx2.cdf(x+z,1,float((nmm1+nmm2)**2/4),loc=0.0,scale=sgm/2)\n",
    "cf=lambda x,z,nmm1,nmm2,sgm:ncx2.pdf(x,1,float((nmm2/rm)**2),loc=0.0,scale=sgm)*ncx2.cdf((x+z),1,float((nmm1/rm)**2),loc=0.0,scale=sgm)\n",
    "f=lambda x,z,nmm1,nmm2,sgm:ncx2.pdf(x,1,float((nmm2/rm)**2),loc=0.0,scale=sgm)*ncx2.pdf(x+z,1,float((nmm1/rm)**2),loc=0.0,scale=sgm)\n",
    "print(nmm1,nmm2,rm)"
   ]
  },
  {
   "attachments": {},
   "cell_type": "markdown",
   "metadata": {},
   "source": [
    "# Using exact app. $\\chi^{2}(x,\\lambda)$ cdf in $\\rho$ case"
   ]
  },
  {
   "cell_type": "code",
   "execution_count": 4,
   "metadata": {},
   "outputs": [
    {
     "name": "stdout",
     "output_type": "stream",
     "text": [
      "0.5625000000000001 0.06250000000000011 1.7320508075688772 1.0\n"
     ]
    }
   ],
   "source": [
    "mm1=1.0;ss1=2.0;mm2=0.5;ss2=2.0;rr=0.5\n",
    "rr2=np.sqrt(ss1*ss2*(1-rr)/2)\n",
    "rr1=np.sqrt(rr*ss1*ss2+rr2**2)\n",
    "ll1=((mm1**2*ss2**2+mm2**2*ss1**2-2*rr*mm1*mm2*ss1*ss2)+4*mm1*mm2*rr1**2)/(4*rr1**2+4*rr2**2)\n",
    "ll2=ll1-mm1*mm2\n",
    "cfcorr=lambda x,z,ll1,ll2,sgm1,sgm2:ncx2.pdf(x,1,((ll2/rr2**2)),loc=0.0,scale=sgm2)*ncx2.cdf((x+z),1,((ll1/rr1**2)),loc=0.0,scale=sgm1)\n",
    "fcorr=lambda x,z,ll1,ll2,sgm1,sgm2:ncx2.pdf(x,1,((ll2/rr2**2)),loc=0.0,scale=sgm2)*ncx2.pdf(x+z,1,((ll1/rr1**2)),loc=0.0,scale=sgm1)\n",
    "print(ll1,ll2,rr1,rr2)"
   ]
  },
  {
   "attachments": {},
   "cell_type": "markdown",
   "metadata": {},
   "source": [
    "# Checking $\\varphi(u)$ char.fun"
   ]
  },
  {
   "cell_type": "code",
   "execution_count": 27,
   "metadata": {},
   "outputs": [
    {
     "name": "stdout",
     "output_type": "stream",
     "text": [
      "(0.9078365132145322+0.03915513606472239j)\n",
      "(0.9078365132145322+0.039155136064722394j)\n",
      "(0.8743759105569233+0.18350067790157934j)\n",
      "(0.8743759105569233+0.18350067790157928j)\n"
     ]
    }
   ],
   "source": [
    "echfpr=lambda u:np.exp(0.5*(-u**2*((mm1*ss2)**2+(mm2*ss1)**2)+2*mm1*mm2*1j*u)/((1-(ss1*ss2*1j*u)**2)))/np.sqrt(1-(ss1*ss2*1j*u)**2)\n",
    "echfprcorr=lambda u:np.exp(0.5*(-u**2*((mm1*ss2)**2+(mm2*ss1)**2-2*rr*mm1*mm2*ss1*ss2)+2*mm1*mm2*1j*u)/((1-(1+rr)*ss1*ss2*1j*u)*(1+(1-rr)*(ss1*ss2)*1j*u)))/np.sqrt((1-(1+rr)*ss1*ss2*1j*u)*(1+(1-rr)*(ss1*ss2)*1j*u))\n",
    "echfnc=lambda u:np.exp(1j*u*(nmm1**2/(1-2*rm**2*1j*u))-1j*u*(nmm2**2/(1+2*rm**2*1j*u)))/np.sqrt((1-2*rm**2*1j*u)*(1+2*rm**2*1j*u))\n",
    "echrfncorr=lambda u:np.exp(ll1*1j*u/(1-2*rr1**2*1j*u)-ll2*1j*u/(1+2*rr2**2*1j*u))/np.sqrt((1-2*rr1**2*1j*u)*(1+2*rr2**2*1j*u))\n",
    "print(echfpr(0.1))\n",
    "print(echfnc(0.1))\n",
    "print(echfprcorr(0.1))\n",
    "print(echrfncorr(0.1))"
   ]
  },
  {
   "attachments": {},
   "cell_type": "markdown",
   "metadata": {},
   "source": [
    "# Using $\\varphi(u)$ inversion for cdf"
   ]
  },
  {
   "cell_type": "code",
   "execution_count": null,
   "metadata": {},
   "outputs": [],
   "source": [
    "xx=0.5\n",
    "print(0.5-quad(lambda u:np.real(np.exp(-1j*u*xx)*echfnc(u)/(1j*u)),0.0,np.inf)[0]/np.pi)\n",
    "print(0.5-quad(lambda u:np.real(np.exp(-1j*u*xx)*echfpr(u)/(1j*u)),0.0,np.inf)[0]/np.pi)\n",
    "print(0.5-quad(lambda u:np.real(np.exp(-1j*u*xx)*echfprcorr(u)/(1j*u)),0.0,np.inf)[0]/np.pi)\n",
    "print(0.5-quad(lambda u:np.real(np.exp(-1j*u*xx)*echrfncorr(u)/(1j*u)),0.0,np.inf)[0]/np.pi)"
   ]
  },
  {
   "cell_type": "code",
   "execution_count": 9,
   "metadata": {},
   "outputs": [
    {
     "data": {
      "image/png": "[encoded data removed]",
      "text/latex": [
       "$\\displaystyle 0.338229021643663$"
      ],
      "text/plain": [
       "0.33822902164366253"
      ]
     },
     "execution_count": 9,
     "metadata": {},
     "output_type": "execute_result"
    }
   ],
   "source": [
    "quad(cfcorr,0,np.inf,args=(0.05,ll1,ll2,rr1**2,rr2**2))[0]"
   ]
  },
  {
   "attachments": {},
   "cell_type": "markdown",
   "metadata": {},
   "source": [
    "# Truncated Gaussian Product $\\mathcal{XY}$ Excluded Function"
   ]
  },
  {
   "cell_type": "code",
   "execution_count": 8,
   "metadata": {},
   "outputs": [],
   "source": [
    "from scipy.special import kv\n",
    "def NPCorr(x,m1,m2,s1,s2,r):\n",
    "    A=np.exp(-0.5*m1**2/(s1**2*(1-r**2))-0.5*m2**2/(s2**2*(1-r**2))+m1*m2*r/(1-r**2))\n",
    "    #A=1.\n",
    "    f=1.0/np.sqrt(1.0-r**2)/(np.pi*s1*s2)*np.exp(x*r/((1.0-r**2)*(s1*s2)))*A*kv(0,np.abs(x)/((1.0-r**2)*(s1*s2)))\n",
    "    return f"
   ]
  },
  {
   "cell_type": "code",
   "execution_count": 10,
   "metadata": {},
   "outputs": [
    {
     "name": "stdout",
     "output_type": "stream",
     "text": [
      "exponent of Aux is: 1.1667\n",
      "0.875 0.0\n",
      "1.75\n",
      "1.4142135623730951\n",
      "0.5\n",
      "14.58333333333333\n",
      "0.8825013788169102\n"
     ]
    }
   ],
   "source": [
    "from scipy.optimize import minimize\n",
    "z=1.;x=1.;\n",
    "#mm1=1.0;ss1=2.0;mm2=0.5;ss2=1.0;rr=0.5\n",
    "g=lambda x,z,rr:(x/(1-rr**2)*(mm1-rr*mm2/ss2)+z/(x*(1-rr**2))*(mm2-rr*mm1))\n",
    "print(\"exponent of Aux is: %.4f\" %(g(x,z,rr)))\n",
    "print(mm1-rr*mm2/ss2,(mm2-rr*mm1))\n",
    "print(mm1*ss2-mm2**2)\n",
    "print(np.sqrt(mm1*ss2))\n",
    "print(rr)\n",
    "fg=lambda rr:quad(g,a=0.0,b=5.0,args=(z,rr))[0]\n",
    "print(fg(rr))\n",
    "#minimize(fg,x0=0.5)\n",
    "#np.sqrt(mm1*ss2)\n",
    "integC=quad(NPCorr,a=-19.65,b=75.,args=(mm1,mm2,ss1,ss2,rr))[0]\n",
    "print(1.0/integC)"
   ]
  },
  {
   "cell_type": "code",
   "execution_count": null,
   "metadata": {},
   "outputs": [],
   "source": [
    "from numpy import cosh\n",
    "z=4.\n",
    "xx=0.5\n",
    "#ff=lambda xx,z,l1,l2:np.exp(-(xx+l1**2+xx+z+l2**2)/2.)/np.sqrt(xx*(xx+z))*cosh(np.sqrt(l2*xx))*cosh(np.sqrt(l1*(xx+z)))/(2*np.pi)\n",
    "nchix2=lambda x,l:(norm.pdf(np.sqrt(x)+np.sqrt(l))+norm.pdf(np.sqrt(x)-np.sqrt(l)))*0.5/np.sqrt(x)\n",
    "cnchix2=lambda x,l:(norm.cdf(np.sqrt(x)+np.sqrt(l))+norm.cdf(np.sqrt(x)-np.sqrt(l))-1)\n",
    "nrmprdnchi=lambda x,z,l1,l2,rm:nchix2(x/rm,l2)*nchix2((x+z)/rm,l1)/rm**2\n",
    "crmprdnchi=lambda x,z,l1,l2,rm:nchix2(x/rm,l2)*cnchix2((x+z)/rm,l1)/rm\n",
    "\n",
    "print(nrmprdnchi(xx,z,(nmm2/rm)**2,(nmm1/rm)**2,rm))\n",
    "print(ncx2.cdf(xx+z,1,float((nmm2/rm)**2),loc=0.0,scale=rm))\n",
    "print(cnchix2((xx+z)/rm,(nmm2/rm)**2))\n",
    "#print(nchix2((xx+z)/rm,(nmm2/rm)**2)/rm)\n",
    "print(quad(nrmprdnchi,0.0,np.inf,args=(z,(nmm1/rm)**2,(nmm2/rm)**2,rm**2))[0])\n",
    "print(quad(f,0.0,np.inf,args=(z,(nmm1),(nmm2),rm**2))[0])\n",
    "print(quad(cf,0.0,np.inf,args=(z,(nmm1),(nmm2),rm**2))[0])\n",
    "quad(crmprdnchi, 0.0,np.inf,args=(z,(nmm1/rm)**2,(nmm2/rm)**2,rm**2))[0]"
   ]
  },
  {
   "cell_type": "code",
   "execution_count": 38,
   "metadata": {},
   "outputs": [
    {
     "name": "stdout",
     "output_type": "stream",
     "text": [
      "0.7294720980916032\n",
      "0.061033513054812756\n",
      "pdfBYnchi_pdf 0.056058484301152345\n",
      "pdfBYnorm_pdf 0.0015446990899960454\n"
     ]
    }
   ],
   "source": [
    "crmprdnchicorr=lambda x,z,ll1,ll2,sgm1,sgm2:nchix2(x/sgm2,ll2)*cnchix2((x+z)/sgm1,ll1)\n",
    "nrmprdnchicorr=lambda x,z,ll1,ll2,sgm1,sgm2:nchix2(x/sgm2,ll2)*nchix2((x+z)/sgm1,ll1)/(sgm1*sgm2)\n",
    "#/(sgm1*sgm2)\n",
    "xz=3.5\n",
    "print(quad(cfcorr,0,np.inf,args=(xz,ll1,ll2,rr1**2,rr2**2))[0])\n",
    "print(quad(crmprdnchicorr, abs(xz),np.inf,args=(xz,(ll1/rr1**2),(ll2/rr2**2),rr1**2,rr2**2))[0])\n",
    "print('pdfBYnchi_pdf',quad(fcorr,0,np.inf,args=(xz,ll1,ll2,rr1**2,rr2**2))[0])\n",
    "print('pdfBYnorm_pdf',quad(nrmprdnchicorr, abs(xz),np.inf,args=(xz,(ll1/rr1**2),(ll2/rr2**2),rr1**2,rr2**2))[0])"
   ]
  },
  {
   "attachments": {},
   "cell_type": "markdown",
   "metadata": {},
   "source": [
    "# Monte Carlo Simulation"
   ]
  },
  {
   "cell_type": "code",
   "execution_count": 34,
   "metadata": {},
   "outputs": [
    {
     "name": "stdout",
     "output_type": "stream",
     "text": [
      "47.98548907393988\n",
      "-46.63255626408269\n"
     ]
    }
   ],
   "source": [
    "bivr2=norm.rvs(loc=mm1,scale=ss1,size=100000)*norm.rvs(loc=mm2,scale=ss2,size=100000)\n",
    "rvsv=bivr2\n",
    "xmin=rvsv.min()\n",
    "xmax=rvsv.max()\n",
    "zz=np.linspace(xmin,xmax,100)\n",
    "ecdf=ECDF(rvsv)\n",
    "cdfsim=ecdf(zz)\n",
    "print(rvsv.max())\n",
    "print(rvsv.min())\n"
   ]
  },
  {
   "cell_type": "code",
   "execution_count": 35,
   "metadata": {},
   "outputs": [
    {
     "name": "stdout",
     "output_type": "stream",
     "text": [
      "74.05367225040148\n",
      "-20.326082365028235\n"
     ]
    }
   ],
   "source": [
    "from scipy.stats import multivariate_normal as mvn\n",
    "bivr=mvn.rvs([mm1,mm2],cov=[[ss1**2,rr*ss1*ss2],[rr*ss1*ss2,ss2**2]],size=100000)\n",
    "rvsvcorr=bivr[:,0]*bivr[:,1]\n",
    "xmincorr=rvsvcorr.min()\n",
    "xmaxcorr=rvsvcorr.max()\n",
    "zzcorr=np.linspace(xmincorr,xmaxcorr,100)\n",
    "ecdfcor=ECDF(rvsvcorr)\n",
    "cdfsimcorr=ecdfcor(zzcorr)\n",
    "print(rvsvcorr.max())\n",
    "print(rvsvcorr.min())"
   ]
  },
  {
   "cell_type": "markdown",
   "metadata": {},
   "source": [
    "# Integration part of Prod"
   ]
  },
  {
   "cell_type": "markdown",
   "metadata": {},
   "source": [
    "## This is with $\\rho=0$"
   ]
  },
  {
   "cell_type": "code",
   "execution_count": 36,
   "metadata": {},
   "outputs": [],
   "source": [
    "%matplotlib inline\n",
    "import warnings\n",
    "warnings.filterwarnings('ignore')\n",
    "zz=np.linspace(xmin,xmax,100)\n",
    "ch=[quad(cf,0,np.inf,args=(z,nmm1,nmm2,rm**2))[0] for z in zz]\n",
    "fch=[quad(f,0,np.inf,args=(z,nmm1,nmm2,rm**2))[0] for z in zz]"
   ]
  },
  {
   "cell_type": "markdown",
   "metadata": {},
   "source": [
    "## This is with $\\rho$"
   ]
  },
  {
   "cell_type": "code",
   "execution_count": 37,
   "metadata": {},
   "outputs": [],
   "source": [
    "%matplotlib inline\n",
    "\n",
    "zzcorr=np.linspace(xmincorr,xmaxcorr,100)\n",
    "chcorr=[quad(cfcorr,0,np.inf,args=(z,ll1,ll2,rr1**2,rr2**2))[0] for z in zzcorr]\n",
    "fchcorr=[quad(fcorr,0,np.inf,args=(z,ll1,ll2,rr1**2,rr2**2))[0] for z in zzcorr]"
   ]
  },
  {
   "cell_type": "code",
   "execution_count": 38,
   "metadata": {},
   "outputs": [
    {
     "name": "stdout",
     "output_type": "stream",
     "text": [
      "0.33822902164366253\n"
     ]
    },
    {
     "data": {
      "image/png": "[encoded data removed]",
      "text/latex": [
       "$\\displaystyle 0.33834$"
      ],
      "text/plain": [
       "0.33834000000000003"
      ]
     },
     "execution_count": 38,
     "metadata": {},
     "output_type": "execute_result"
    }
   ],
   "source": [
    "print(quad(cfcorr,0,np.inf,args=(0.05,ll1,ll2,rr1**2,rr2**2))[0])\n",
    "ecdfcor(0.05)"
   ]
  },
  {
   "cell_type": "code",
   "execution_count": 39,
   "metadata": {},
   "outputs": [],
   "source": [
    "#plt.gcf().set_size_inches(8, 8)\n",
    "%matplotlib qt\n",
    "plt.subplot(2,2,1)\n",
    "plt.plot(zz,ch,'--')\n",
    "plt.plot(zz,cdfsim)\n",
    "plt.legend(['$\\chi^{2}(\\lambda_{x},\\lambda_{y},\\sigma_{\\chi^{2}})$','Simulation'])\n",
    "plt.ylabel=\"$P(Z\\leq z)\"\n",
    "plt.subplot(2,2,2)\n",
    "#plt.plot(zz,np.concatenate(([0],np.diff(ch)/np.diff(zz))),'--') \n",
    "plt.plot(zz,fch,'--') \n",
    "#plt.hist(rvsv,density=True,bins=100)\n",
    "sns.distplot(rvsv,kde=False,hist=True,norm_hist=True)\n",
    "plt.legend(['$\\chi^{2}(\\lambda_{x},\\lambda_{y},\\sigma_{\\chi^{2}})$','Simulation'])\n",
    "plt.subplot(2,2,3)\n",
    "plt.plot(zzcorr,chcorr,'--')\n",
    "plt.plot(zzcorr,cdfsimcorr)\n",
    "plt.legend([r'$\\chi^{2}(\\lambda_{x},\\lambda_{y},\\sigma_{x},\\sigma_{y},\\rho)$','Simulation'])\n",
    "plt.subplot(2,2,4)\n",
    "sns.distplot(rvsvcorr,kde=False,hist=True,norm_hist=True)\n",
    "#sns.histplot(rvsvcorr,kde=False,stat='density')\n",
    "plt.plot(zzcorr,fchcorr,'--',color='red') \n",
    "plt.legend([r'$\\chi^{2}(\\lambda_{x},\\lambda_{y},\\sigma_{x},\\sigma_{y},\\rho)$','Simulation'])\n",
    "#plt.plot(zz,fch) \n",
    "path='C:/Users/aheki/Documents/cdo_model/cdopricer/poibinCDO/'\n",
    "#plt.savefig(path+'Appr_exact_ncx2'+str(mm1)+str(mm2)+str(ss1)+str(ss2)+'.png')\n",
    "#plt.savefig(path+'Appr_exact_ncx2'+str(mm1)+str(mm2)+str(ss1)+str(ss2)+'.eps')\n",
    "#%%\n"
   ]
  },
  {
   "cell_type": "code",
   "execution_count": 40,
   "metadata": {},
   "outputs": [
    {
     "name": "stderr",
     "output_type": "stream",
     "text": [
      "The PostScript backend does not support transparency; partially transparent artists will be rendered opaque.\n"
     ]
    }
   ],
   "source": [
    "#%matplotlib qt\n",
    "font = {'family': 'serif',\n",
    "        'color':  'darkred',\n",
    "        'weight': 'normal',\n",
    "'size': 12,\n",
    "        }\n",
    "plt.rcParams['text.usetex'] = False\n",
    "plt.subplot(2,1,1)\n",
    "plt.plot(zzcorr,chcorr,'--')\n",
    "plt.plot(zzcorr,cdfsimcorr)\n",
    "plt.legend([r'$\\chi^{2}(\\lambda_{x},\\lambda_{y},\\sigma_{x},\\sigma_{y},\\rho)$','Simulation'],prop={'family':font['family'], 'size':font['size']})\n",
    "plt.xlabel('x',fontdict=font)\n",
    "#plt.ylabel('F(x)')\\\n",
    "plt.subplot(2,1,2)\n",
    "plt.plot(zzcorr,fchcorr,'--',color='orange') \n",
    "#plt.ylabel('$f(x)$',fontdict=font)\n",
    "plt.xlabel('x',fontdict=font)\n",
    "sns.histplot(rvsvcorr,kde=False,stat='density')\n",
    "#plt.hist(rvsvcorr,density=True)\n",
    "#plt.plot(zz,fch) \n",
    "plt.legend([r'$\\chi^{2}(\\lambda_{x},\\lambda_{y},\\sigma_{x},\\sigma_{y},\\rho)$','Simulation'],prop={'family':font['family'], 'size':font['size']})\n",
    "path='C:/Users/aheki/Documents/cdo_model/cdopricer/poibinCDO/'\n",
    "plt.savefig(path+'Appr_exact_ncx2'+str(mm1)+str(mm2)+str(ss1)+str(ss2)+'.png')\n",
    "plt.savefig(path+'Appr_exact_ncx2'+str(mm1)+str(mm2)+str(ss1)+str(ss2)+'.eps')"
   ]
  },
  {
   "cell_type": "code",
   "execution_count": 41,
   "metadata": {},
   "outputs": [
    {
     "name": "stdout",
     "output_type": "stream",
     "text": [
      "0.4814789842071266\n",
      "0.33822902164366253\n",
      "0.4793700000000001\n",
      "0.33834000000000003\n"
     ]
    }
   ],
   "source": [
    "cdfaprd=lambda zz:quad(cf,0.0,np.inf,args=(zz,nmm1,nmm2,rm**2))[0]\n",
    "cdfaprdcorr=lambda zz:quad(cfcorr,0.0,np.inf,args=(zz,(ll1),ll2,rr1**2,rr2**2))[0]\n",
    "pdfaprd=lambda zz:quad(f,0.0,np.inf,args=(zz,nmm1,nmm2,rm**2))[0]\n",
    "#print(pdfaprd(z))\n",
    "print(cdfaprd(0.05))\n",
    "print(cdfaprdcorr(0.05))\n",
    "print(ecdf(0.05))\n",
    "print(ecdfcor(0.05))"
   ]
  },
  {
   "cell_type": "code",
   "execution_count": 42,
   "metadata": {},
   "outputs": [
    {
     "name": "stdout",
     "output_type": "stream",
     "text": [
      "0.4599479261172491\n",
      "0.460172162722971\n",
      "0.460172162722971\n",
      "0.38075944172378273\n"
     ]
    }
   ],
   "source": [
    "plt.gcf().set_size_inches(12, 12)\n",
    "from scipy.special import erf\n",
    "import numpy as np\n",
    "import matplotlib.pyplot as plt\n",
    "xx=np.linspace(-20.,0,100)\n",
    "pxx=np.linspace(0,20,100)\n",
    "axx=np.linspace(-20.,20,200)\n",
    "a=0.3842;b=0.7640;c=0.6964\n",
    "#a=0.4920;b=0.2887;c=1.1893\n",
    "erfapp=lambda x: np.exp(-a*x**2-b*x-c)\n",
    "derfapp=lambda x: abs(-2*a*x-b)*np.exp(-a*x**2-b*x-c)\n",
    "print(erfapp(0.1))\n",
    "print(erfc(0.1/np.sqrt(2))*0.5)\n",
    "print(norm.cdf(-0.1))\n",
    "plt.subplot(3,1,1)\n",
    "plt.plot(axx,np.concatenate((erfapp(-xx),1.0-erfapp(pxx))),'--');plt.plot(axx,norm.cdf(axx))\n",
    "plt.subplot(3,1,2)\n",
    "plt.plot(axx,np.concatenate((derfapp(-xx),derfapp(pxx))),'--');plt.plot(axx,norm.pdf(axx))\n",
    "plt.subplot(3,1,3)\n",
    "plt.plot(xx,derfapp(pxx),'--');plt.plot(xx,norm.pdf(-pxx))\n",
    "print(derfapp(0.0))"
   ]
  },
  {
   "attachments": {},
   "cell_type": "markdown",
   "metadata": {},
   "source": [
    "# Edgeworth and VGamma Approximations   "
   ]
  },
  {
   "cell_type": "code",
   "execution_count": 43,
   "metadata": {},
   "outputs": [],
   "source": [
    "def VGmomNP(mx,my,sx,sy,rho):\n",
    "    delx=mx/sx;dely=my/sy\n",
    "    \n",
    "    K=6.0*(1+rho**4+2.0*delx**2+12.0*rho*delx*dely+4.0*rho**3*delx*dely+2.0*dely**2+6.0*rho**2*(1.0+delx**2+dely**2))/(1.0+rho**2+delx**2+dely**2+2.0*rho*delx*dely)**2+3.0\n",
    "    \n",
    "    S=2.0*(rho**3+3*delx*dely+3.0*rho**2*delx*dely+3.0*rho*(1.0+delx**2+dely**2))/(1+rho**2+delx**2+dely**2+2.0*rho*delx*dely)**(1.5)\n",
    "    \n",
    "    V=(sx*sy)**2*(1.0+rho**2+2.0*rho*delx*dely+delx**2+dely**2)\n",
    "    \n",
    "    E=(sx*sy)*(delx*dely+rho)\n",
    "    #theta=(E*S**2)**(1./3.);\n",
    "    #nu=E/theta;\n",
    "    #sgm=V/nu;\n",
    "    nu=3./(K-3.)\n",
    "    sgm=np.sqrt(V*(K-3.)/3.)\n",
    "    theta=S*np.sqrt(V)/3.\n",
    "    mus=E-theta*nu\n",
    "    return sgm,nu,theta,mus,K,S,V,E\n",
    "\n",
    "\n",
    "def VGmomNPcorr(mx,my,sx,sy,rho):\n",
    "    delx=mx/sx;dely=my/sy\n",
    "    \n",
    "    E=(sx*sy)*(delx*dely+rho)\n",
    "    \n",
    "    V=(sx*sy)**2*(1.0+rho**2+2.0*rho*delx*dely+delx**2+dely**2)\n",
    "    #](1.0+rho**2+2.0*rho*delx*dely+delx**2+dely**2)\n",
    "    #Exx=(1.0+rho**2+2.0*rho*delx*dely+delx**2+dely**2)\n",
    "    \n",
    "    K=6.0*(1+rho**4+2.0*delx**2+12.0*rho*delx*dely+4.0*rho**3*delx*dely+2.0*dely**2+6.0*rho**2*(1.0+delx**2+dely**2))/(1.0+rho**2+delx**2+dely**2+2.0*rho*delx*dely)**2+3.0\n",
    "    #(12.0*(delx**2+dely**2)*(1.0+3.0*rho**2)+24.0*delx*dely*rho*(3.0+rho**2)+6.0*(1.0+6.0*rho+rho**4))/(1.0+rho**2+2.0*rho*delx*dely+delx**2+dely**2)**2+3.0\n",
    "    #6.0*(1+rho**4+2.0*delx**2+12.0*rho*delx*dely+4.0*rho**3*delx*dely+2.0*dely**2+6.0*rho**2*(1.0+delx**2+dely**2))/(1.0+rho**2+delx**2+dely**2+2.0*rho*delx*dely)**2+3.0\n",
    "    \n",
    "    S=2.0*(rho**3+3*delx*dely+3.0*rho**2*delx*dely+3.0*rho*(1.0+delx**2+dely**2))/(1+rho**2+delx**2+dely**2+2.0*rho*delx*dely)**(1.5)\n",
    "    #(6.0*((delx**2+dely**2)*rho+delx*dely*(1+rho**2))+6.0*rho+2.0*rho**3)/(1.0+rho**2+2.0*rho*delx*dely+delx**2+dely**2)**(1.5)\n",
    "    #2.0*(rho**3+3*delx*dely+3.0*rho**2*delx*dely+3.0*rho*(1.0+delx**2+dely**2))/(1+rho**2+delx**2+dely**2+2.0*rho*delx*dely)**(1.5)\n",
    "    \n",
    "    \n",
    "    #theta=(E*S**2)**(1./3.);\n",
    "    #nu=E/theta;\n",
    "    #sgm=V/nu;\n",
    "    \n",
    "    nu=3./(K-3.)\n",
    "    sgm=np.sqrt(V*(K-3.)/3.)\n",
    "    theta=S*np.sqrt(V)/3.\n",
    "    mus=E-sx*sy*rho-theta*nu\n",
    "    return sgm,nu,theta,mus,K,S,V,E\n",
    "\n",
    "def VGddnew(x,sgm,nu,theta,mus,t):\n",
    "    nu=t*nu\n",
    "    f=(np.sqrt(2)/(np.sqrt(np.pi)*sgm*sc.special.gamma(nu)))*(np.abs(x-mus)/np.sqrt(theta**2+2*sgm**2))**(nu-0.5)*np.exp((x-mus)*theta/sgm**2)*sc.special.kv(nu-0.5,np.abs(x-mus)*np.sqrt(theta**2+2*sgm**2)/sgm**2)\n",
    "    return f\n",
    "\n",
    "def VGddnewCorr(x,sgm,nu,theta,mus,t):\n",
    "    nu=t*nu\n",
    "    f=1.0/np.sqrt(1.0-rho**2)/(np.sqrt(np.pi)*sgm*sc.special.gamma(nu))*(np.abs(x-mus)/np.sqrt((theta**2+2*sgm**2)*(1-rho**2)))**(nu-0.5)*np.exp((x-mus)*rho/(1.0-rho**2)*theta/sgm**2)*sc.special.kv(nu-0.5,np.abs(x-mus)/np.sqrt(1.0-rho**2)*np.sqrt(theta**2+2*sgm**2)/sgm**2)\n",
    "    return f\n",
    "\n",
    "def NPCorr(x,m1,m2,s1,s2,r):\n",
    "    A=np.exp(-0.5*m1**2/(s1**2*(1-r**2))-0.5*m2**2/(s2**2*(1-r**2))+m1*m2*r/(1-r**2))\n",
    "    #A=1.\n",
    "    f=1.0/np.sqrt(1.0-r**2)/(np.pi*s1*s2)*np.exp(x*r/((1.0-r**2)*(s1*s2)))*A*sc.special.kv(0,np.abs(x)/((1.0-r**2)*(s1*s2)))\n",
    "    return f\n",
    "\n",
    "\n",
    "def GprodEdgeworth(xx, m1, m2, s1, s2, r):    \n",
    "    K3=6.0*(s1*s2)**2*m1*m2\n",
    "    mu=m1*m2\n",
    "    sgm=np.sqrt((s1*s2)**2+m1**2*s2**2+m2**2*s1**2)\n",
    "    x=(xx-mu)/sgm\n",
    "    mom4val=(6.0*(s1*s2)**4+12.0*(s1*s2)**2*(m1**2*s2**2+m2**2*s1**2))/sgm**4\n",
    "    mom5val=(120.0*(s1*s2)**4*m1*m2)/sgm**5\n",
    "    mom6val=(120.0*(s1*s2)**6+360.0*(s1*s2)**4*(m1**2*s2**2+m2**2*s1**2))/sgm**6\n",
    "    mom7val=(5040.0*(s1*s2)**6*m1*m2)/sgm**7\n",
    "    extraterm=norm.pdf(x)*((mom4val)/24.0*(x**3-3.0*x)+((K3/sgm**3)**2/(72.0))*(x**5-10*x**3+15*x))\n",
    "    #+mom5val*(-x**4+3*x**2-3.0)/120.0)\n",
    "                           #(K3/sgm**3)**3/(216.0)*(-x**8+28*x**6-210*x**4+420*x**2-105.0))\n",
    "                           #+mom6val*(x**5-10*x**3+15*x)/720.0+mom4val**2/576.0*(x**7-21*x**5+105*x**3-105.0*x)+mom7val*(-x**6+15*x**4-45*x**2+15.0)/5040)\n",
    "    #(mom4val)/24.0*(x**3-3.0*x)+((K3/sgm**3)**2/(72.0))*(x**5-10*x**3+15*x)\n",
    "    extratermpdf=norm.pdf(x)*(mom4val/24.0*(x**3-6*x**2+3.0)+(K3/sgm**3)**2/72.0*(x**6-15*x**4+45*x**2-15.0))\n",
    "    out=norm.cdf(x)+(1.0-x**2)/6.0*norm.pdf(x)*(K3/sgm**3)-extraterm\n",
    "    outpdf=norm.pdf(x)+(x**3-3.0*x)/6.0*norm.pdf(x)*(K3/sgm**3)\n",
    "    #-extratermpdf\n",
    "    return out,outpdf\n",
    "def GprodEdgeworththird(xx, m1, m2, s1, s2, r):    \n",
    "    K3=6.0*(s1*s2)**2*m1*m2\n",
    "    mu=m1*m2\n",
    "    sgm=np.sqrt((s1*s2)**2+m1**2*s2**2+m2**2*s1**2)\n",
    "    x=(xx-mu)/sgm\n",
    "    mom4val=(6.0*(s1*s2)**4+12.0*(s1*s2)**2*(m1**2*s2**2+m2**2*s1**2))/sgm**4\n",
    "    mom5val=(120.0*(s1*s2)**4*m1*m2)/sgm**5\n",
    "    extraterm=norm.pdf(x)*((mom4val)/24.0*(x**3-3.0*x)+((K3/sgm**3)**2/(72.0))*(x**5-10*x**3+15*x)+mom5val*(-x**4+3*x**2-3.0)/120.0)\n",
    "    #(mom4val)/24.0*(x**3-3.0*x)+((K3/sgm**3)**2/(72.0))*(x**5-10*x**3+15*x)\n",
    "    out=norm.cdf(x)+(1.0-x**2)/6.0*norm.pdf(x)*(K3/sgm**3)\n",
    "    return out\n",
    "\n",
    "def GprodEdgeworththirdCorr(xx, m1, m2, s1, s2, r):    \n",
    "    K3=6.0*(s1*s2)**2*m1*m2+s1*s2*(6.0*m1**2*r*s2**2+6.0*m1*m2*r**2*s1*s2+6.0*m2**2*r*s1**2+2.0*r**3*s1**2*s2**2+6.0*r*s1**2*s2**2)\n",
    "    mu=m1*m2+r*s1*s2\n",
    "    sgm=np.sqrt((1+r**2)*(s1*s2)**2+m1**2*s2**2+m2**2*s1**2+2.0*m1*m2*s1*s2*r)\n",
    "    x=(xx-mu)/sgm\n",
    "    #mom4val=(6.0*(s1*s2)**4+8.0*(s1*s2)**2*(m1**2*s2**2+m2**2*s1**2))/sgm**4\n",
    "    #mom5val=(120.0*(s1*s2)**4*m1*m2)/sgm**5\n",
    "    #extraterm=norm.pdf(x)*((mom4val)/24.0*(x**3-3.0*x)+((K3/sgm**3)**2/(72.0))*(x**5-10*x**3+15*x)+mom5val*(-x**4+3*x**2-3.0)/120.0)\n",
    "    #(mom4val)/24.0*(x**3-3.0*x)+((K3/sgm**3)**2/(72.0))*(x**5-10*x**3+15*x)\n",
    "    out=norm.cdf(x)+(1.0-x**2)/6.0*norm.pdf(x)*(K3/sgm**3)\n",
    "    return out\n",
    "\n",
    "def GprodEdgeworthCorr(xx, m1, m2, s1, s2, r):    \n",
    "    K3=6.0*(s1*s2)**2*m1*m2+s1*s2*(6.0*m1**2*r*s2**2+6.0*m1*m2*r**2*s1*s2+6.0*m2**2*r*s1**2+2.0*r**3*s1**2*s2**2+6.0*r*s1**2*s2**2)\n",
    "    mu=m1*m2+r*s1*s2\n",
    "    sgm=np.sqrt((1+r**2)*(s1*s2)**2+m1**2*s2**2+m2**2*s1**2+2.0*m1*m2*s1*s2*r)\n",
    "    x=(xx-mu)/sgm\n",
    "    mom4val=(s1*s2)**2*(36.0*m1**2*r**2*s2**2+36.0*m2**2*r**2*s1**2+36.0*r**2*(s1*s2)**2+6.0*(1+r**4)*(s1*s2)**2+12.0*(m1**2*s2**2+m2**2*s1**2)+24.0*m1*m2*s1*s2*r*(3.0+r**3))/sgm**4\n",
    "    #mom5val=(120.0*(s1*s2)**4*m1*m2)/sgm**5\n",
    "    #extraterm=norm.pdf(x)*((mom4val)/24.0*(x**3-3.0*x)+((K3/sgm**3)**2/(72.0))*(x**5-10*x**3+15*x)+mom5val*(-x**4+3*x**2-3.0)/120.0)\n",
    "    #(mom4val)/24.0*(x**3-3.0*x)+((K3/sgm**3)**2/(72.0))*(x**5-10*x**3+15*x)\n",
    "    extraterm=norm.pdf(x)*((mom4val)/24.0*(x**3-3.0*x)+((K3/sgm**3)**2/(72.0))*(x**5-10*x**3+15*x))\n",
    "    out=norm.cdf(x)+(1.0-x**2)/6.0*norm.pdf(x)*(K3/sgm**3)-extraterm\n",
    "    #outpdf=norm.pdf(x)+(x**3-3.0*x)/6.0*norm.pdf(x)*(K3/sgm**3)-extraterm\n",
    "    return out\n"
   ]
  },
  {
   "cell_type": "code",
   "execution_count": 44,
   "metadata": {},
   "outputs": [],
   "source": [
    "from statsmodels.distributions.empirical_distribution import ECDF\n",
    "from scipy.stats import multivariate_normal as mvn\n",
    "import scipy as sc\n",
    "def NormProductSimulator(m1,m2,s1,s2,nsim,rho):\n",
    "    bivr=mvn.rvs([m1,m2],cov=[[s1**2,rho*s1*s2],[rho*s1*s2,s2**2.]],size=nsim)\n",
    "    #bivr2=norm.rvs(loc=m1,scale=s1,size=nsim)*norm.rvs(loc=m2,scale=s2,size=nsim)\n",
    "    rvsv=bivr[:,0]*bivr[:,1]\n",
    "    #bivr\n",
    "    #bivr[:,0]*bivr[:,1]\n",
    "    sgm,nu,theta,mus,K,S,V,E=VGmomNP(m1,m2,s1,s2,rho)\n",
    "    sgmC,nuC,thetaC,musC,Kc,Sc,Vc,Ec=VGmomNPcorr(m1,m2,s1,s2,rho)\n",
    "\n",
    "    hdat=plt.hist(rvsv,density=True,bins=100)\n",
    "    x=hdat[1]\n",
    "    x=np.linspace(np.min(x),np.max(x),100)\n",
    "    C=1./quad(NPCorr,a=np.min(x),b=np.max(x),args=(m1,m2,s1,s2,rho))[0]\n",
    "    ecdf=ECDF(rvsv)\n",
    "    cdf=[quad(VGddnew,a=np.min(x),b=xx,args=(sgm,nu,theta,mus,1.))[0] for xx in x]\n",
    "    cdfp=[quad(NPCorr,a=np.min(x),b=xx,args=(m1,m2,s1,s2,rho))[0] for xx in x]\n",
    "    pdfp=[NPCorr(xx,m1,m2,s1,s2,rho) for xx in x]\n",
    "\n",
    "    #sns.distplot(rvsv,kde=False,norm_hist=True,hist=False,label='sim');plt.plot(x,VGddnew(x,sgm,nu,theta,mus,1.));plt.plot(x,NPCorr(x, m1, m2, s1, s2, rho)*C);plt.legend(['NormalProduct','VarianceGamma','Product(Simulation)'])\n",
    "    return rvsv,sgm,nu,theta,mus,K,S,V,E,x,C,cdf,cdfp,pdfp,ecdf\n",
    "\n",
    "\n"
   ]
  },
  {
   "cell_type": "code",
   "execution_count": 45,
   "metadata": {},
   "outputs": [],
   "source": [
    "font = {'family': 'serif',\n",
    "        'color':  'darkred',\n",
    "        'weight': 'normal',\n",
    "        'size': 14,\n",
    "        }\n",
    "\n",
    "def PlotAll(x,m1,m2,s1,s2,rho,sgm,nu,theta,mus,rvsv,cdfp,pdfp,cdf):\n",
    "    plt.gcf().set_size_inches(22, 12)\n",
    "#%matplotlib inline\n",
    "    plt.subplot(3,3,1)\n",
    "    plt.plot(x,GprodEdgeworthCorr(x,m1,m2,s1,s2,rho));plt.plot(x,GprodEdgeworththirdCorr(x,m1,m2,s1,s2,rho),'--');plt.plot(x,cdf);plt.plot(x,np.array(cdfp)*C);plt.plot(x,ecdf(x));plt.legend([r\"Edgepdf$4^{th}(\\rho)$\",r\"Edgepdf$3^{rd}(\\rho)$\",'VG','NPa','Sim'],prop={'family':font['family'], 'size':font['size']})\n",
    "    plt.subplot(3,3,2)\n",
    "    plt.plot(x,cdf);plt.plot(x,ecdf(x),'--');plt.legend(['VG','Sim'],prop={'family':font['family'], 'size':font['size']})\n",
    "    plt.subplot(3,3,3)\n",
    "    plt.plot(x,np.array(cdfp)*C);plt.plot(x,ecdf(x),'--');plt.legend(['NPa','Sim'],prop={'family':font['family'], 'size':font['size']})\n",
    "    plt.subplot(3,3,4)\n",
    "    plt.plot(x,np.array(cdfp)*C-ecdf(x))\n",
    "    plt.plot(x,np.array(cdf)-ecdf(x),'--');plt.legend(['Error-NPa','Error-VG'],prop={'family':font['family'], 'size':font['size']})\n",
    "    plt.subplot(3,3,5)\n",
    "    plt.plot(x,ecdf(x),'--');plt.plot(x,GprodEdgeworththirdCorr(x,m1,m2,s1,s2,rho));plt.plot(x,GprodEdgeworthCorr(x,m1,m2,s1,s2,rho));plt.legend(['Sim',r\"Edge$3^{rd}(\\rho)$\",r\"Edge$4^{th}(\\rho)$\"],prop={'family':font['family'], 'size':font['size']})\n",
    "    #plt.subplot(4,3,5)\n",
    "    #plt.plot(x,np.array(cdfp)*C-ecdf(x))\n",
    "    #plt.plot(x,np.array(cdf)-ecdf(x),'--');plt.legend(['Error-NPa','Error-VG'],prop={'family':font['family'], 'size':font['size']})\n",
    "    plt.subplot(3,3,6)\n",
    "    plt.plot(x,abs(GprodEdgeworththird(x,m1,m2,s1,s2,0)-ecdf(x)));plt.plot(x,abs(GprodEdgeworth(x,m1,m2,s1,s2,0)[0]-ecdf(x)),'--');plt.plot(x,abs(GprodEdgeworththirdCorr(x,m1,m2,s1,s2,rho)-ecdf(x)));plt.plot(x,abs(GprodEdgeworthCorr(x,m1,m2,s1,s2,rho)-ecdf(x)));plt.legend([r\"Error-Edge$3^{rd}$\",r\"Error-Edge$4^{th}$\",r\"Error-Edge$3^{rd}(\\rho)$\",r\"Error-Edge$4^{th}(\\rho)$\"],prop={'family':font['family'], 'size':font['size']})\n",
    "    plt.subplot(3,3,7)\n",
    "    plt.hist(rvsv,density=True,bins=100);plt.plot(x,VGddnew(x,sgm,nu,theta,mus,1.),linewidth=2);plt.plot(x,np.array(pdfp)*C,'--');plt.legend(['VG','Product(Simulation)','NPa'],prop={'family':font['family'], 'size':font['size']})\n",
    "    #NPCorr(x, m1, m2, s1, s2, rho)*C\n",
    "    #plt.plot(x,np.concatenate(([0],np.diff(cdfp)/np.diff(x)))\n",
    "    plt.subplot(3,3,8)\n",
    "    plt.hist(rvsv,density=True,bins=100);plt.plot(x,np.concatenate(([0],np.diff(GprodEdgeworth(x,m1,m2,s1,s2,0)[0])/np.diff(x))));plt.plot(x,np.concatenate(([0],np.diff(GprodEdgeworthCorr(x,m1,m2,s1,s2,rho))/np.diff(x))));plt.legend([r\"Edgepdf$4^{th}$\",'Product(Simulation)',r\"Edgepdf$4^{th}(\\rho)$\"],prop={'family':font['family'], 'size':font['size']})\n",
    "    #plt.hist(rvsv,density=True,bins=100);plt.plot(x,NPCorr(x, m1, m2, s1, s2, rho)*C,linewidth=2);plt.legend(['TruncNormalProduct','Product(Simulation)'])\n",
    "    plt.subplot(3,3,9)\n",
    "    sns.distplot(rvsv,kde=True,norm_hist=True,hist=False,label='sim');plt.plot(x,VGddnew(x,sgm,nu,theta,mus,1.),'--');plt.legend(['Product(Simulation)','VG'],prop={'family':font['family'], 'size':font['size']})\n",
    "    #plt.subplot(4,3,10)\n",
    "    #plt.hist(rvsv,density=True,bins=100);plt.plot(x,np.array(pdfp)*C,'--');plt.legend(['Product(Simulation)','NPa'],prop={'family':font['family'], 'size':font['size']})   \n",
    "    #plt.plot(x,ecdf(x),'--');plt.plot(x,GprodEdgeworththirdCorr(x,m1,m2,s1,s2,rho));plt.plot(x,GprodEdgeworthCorr(x,m1,m2,s1,s2,rho));plt.legend(['Product(Simulation)','EdgeworthThirdCorr','EdgeworthCorr'],prop={'family':font['family'], 'size':font['size']})\n",
    "    #plt.subplot(4,3,12)\n",
    "    #plt.plot(x,ecdf(x),'--');plt.plot(x,GprodEdgeworthCorr(x,m1,m2,s1,s2,rho));plt.legend(['Product(Simulation)','EdgeworthCorr'],prop={'family':font['family'], 'size':font['size']})"
   ]
  },
  {
   "attachments": {},
   "cell_type": "markdown",
   "metadata": {},
   "source": [
    "# Simulations"
   ]
  },
  {
   "attachments": {},
   "cell_type": "markdown",
   "metadata": {},
   "source": [
    "1) Case 1 of  Article in Symmetry (NPa and VG works well, but NPa is the best)"
   ]
  },
  {
   "cell_type": "code",
   "execution_count": 46,
   "metadata": {},
   "outputs": [],
   "source": [
    "m1=1.;s1=2.0;m2=0.5;s2=2.0;rho=0.5;nsim=100000#\"-->Edgeworth\"\n",
    "rvsv,sgm,nu,theta,mus,K,S,V,E,x,C,cdf,cdfp,pdfp,ecdf=NormProductSimulator(m1,m2,s1,s2,nsim,rho)\n",
    "PlotAll(x,m1,m2,s1,s2,rho,sgm,nu,theta,mus,rvsv,cdfp,pdfp,cdf)"
   ]
  },
  {
   "attachments": {},
   "cell_type": "markdown",
   "metadata": {},
   "source": [
    "- $\\quad$ Print precision and error output $\\epsilon$"
   ]
  },
  {
   "cell_type": "code",
   "execution_count": 47,
   "metadata": {},
   "outputs": [
    {
     "name": "stdout",
     "output_type": "stream",
     "text": [
      "max_error_Vgamma: 0.1961046593933281\n",
      "mean_error_Vgamma: 0.006550103080089349\n",
      "max_error_TruncFormula: 0.03987869641023889\n",
      "mean_error_TruncFormula: 0.005528499976106599\n",
      "max_error_EdgeworthExpansion: 0.25875402294899896\n",
      "mean_error_EdgeworthExpansion: 0.020934432128974924\n",
      "max_error_EdgeworthExpansionCorr: 0.17255292202792594\n",
      "mean_error_EdgeworthExpansionCorr: 0.013821376799539164\n",
      "max_error_EdgeworthExpansion2: 0.18842990399416523\n",
      "mean_error_EdgeworthExpansion2: 0.020730439857182925\n",
      "max_error_EdgeworthExpansion2Corr: 0.13806893217253843\n",
      "mean_error_EdgeworthExpansion2Corr: 0.015152021435088772\n"
     ]
    }
   ],
   "source": [
    "print(\"max_error_Vgamma: \"+str(max(abs(np.array(cdf)-ecdf(x)))))\n",
    "print(\"mean_error_Vgamma: \"+str(abs(np.array(cdf)-ecdf(x)).mean()))\n",
    "print(\"max_error_TruncFormula: \"+str(max(abs(np.array(cdfp)*C-ecdf(x)))))\n",
    "print(\"mean_error_TruncFormula: \"+str(abs(np.array(cdfp)*C-ecdf(x)).mean()))\n",
    "\n",
    "print(\"max_error_EdgeworthExpansion: \"+str(max(abs(GprodEdgeworththird(x,m1,m2,s1,s2,0)-ecdf(x)))))\n",
    "print(\"mean_error_EdgeworthExpansion: \"+str(abs(GprodEdgeworththird(x,m1,m2,s1,s2,0)-ecdf(x)).mean()))\n",
    "\n",
    "print(\"max_error_EdgeworthExpansionCorr: \"+str(max(abs(GprodEdgeworththirdCorr(x,m1,m2,s1,s2,rho)-ecdf(x)))))\n",
    "print(\"mean_error_EdgeworthExpansionCorr: \"+str(abs(GprodEdgeworththirdCorr(x,m1,m2,s1,s2,rho)-ecdf(x)).mean()))\n",
    "\n",
    "print(\"max_error_EdgeworthExpansion2: \"+str(max(abs(GprodEdgeworth(x,m1,m2,s1,s2,0)[0]-ecdf(x)))))\n",
    "print(\"mean_error_EdgeworthExpansion2: \"+str(abs(GprodEdgeworth(x,m1,m2,s1,s2,0)[0]-ecdf(x)).mean()))\n",
    "\n",
    "print(\"max_error_EdgeworthExpansion2Corr: \"+str(max(abs(GprodEdgeworthCorr(x,m1,m2,s1,s2,rho)-ecdf(x)))))\n",
    "print(\"mean_error_EdgeworthExpansion2Corr: \"+str(abs(GprodEdgeworthCorr(x,m1,m2,s1,s2,rho)-ecdf(x)).mean()))"
   ]
  },
  {
   "attachments": {},
   "cell_type": "markdown",
   "metadata": {},
   "source": [
    "2) Case 2 of Article in Symmetry (Edgeworth Expansion works best, VG is the second best)"
   ]
  },
  {
   "cell_type": "code",
   "execution_count": 48,
   "metadata": {},
   "outputs": [],
   "source": [
    "m1=1.;s1=0.5;m2=0.5;s2=0.2;rho=-0.5#\"-->Edgeworth\"\n",
    "rvsv,sgm,nu,theta,mus,K,S,V,E,x,C,cdf,cdfp,pdfp,ecdf=NormProductSimulator(m1,m2,s1,s2,nsim,rho)\n",
    "PlotAll(x,m1,m2,s1,s2,rho,sgm,nu,theta,mus,rvsv,cdfp,pdfp,cdf)"
   ]
  },
  {
   "attachments": {},
   "cell_type": "markdown",
   "metadata": {},
   "source": [
    "- $\\quad$ Print precision and error output $\\epsilon$"
   ]
  },
  {
   "cell_type": "code",
   "execution_count": 49,
   "metadata": {},
   "outputs": [
    {
     "name": "stdout",
     "output_type": "stream",
     "text": [
      "max_error_Vgamma: 0.012537111758935127\n",
      "mean_error_Vgamma: 0.001975464734319288\n",
      "max_error_TruncFormula: 0.9114954378016084\n",
      "mean_error_TruncFormula: 0.16606290729318776\n",
      "max_error_EdgeworthExpansion: 0.09437870523848857\n",
      "mean_error_EdgeworthExpansion: 0.025643393045215318\n",
      "max_error_EdgeworthExpansionCorr: 0.018319512186595832\n",
      "mean_error_EdgeworthExpansionCorr: 0.003804065264561324\n",
      "max_error_EdgeworthExpansion2: 0.09199498818163243\n",
      "mean_error_EdgeworthExpansion2: 0.023792343709733727\n",
      "max_error_EdgeworthExpansion2Corr: 0.019859164938052676\n",
      "mean_error_EdgeworthExpansion2Corr: 0.004175147035614704\n"
     ]
    }
   ],
   "source": [
    "print(\"max_error_Vgamma: \"+str(max(abs(np.array(cdf)-ecdf(x)))))\n",
    "print(\"mean_error_Vgamma: \"+str(abs(np.array(cdf)-ecdf(x)).mean()))\n",
    "print(\"max_error_TruncFormula: \"+str(max(abs(np.array(cdfp)*C-ecdf(x)))))\n",
    "print(\"mean_error_TruncFormula: \"+str(abs(np.array(cdfp)*C-ecdf(x)).mean()))\n",
    "\n",
    "print(\"max_error_EdgeworthExpansion: \"+str(max(abs(GprodEdgeworththird(x,m1,m2,s1,s2,0)-ecdf(x)))))\n",
    "print(\"mean_error_EdgeworthExpansion: \"+str(abs(GprodEdgeworththird(x,m1,m2,s1,s2,0)-ecdf(x)).mean()))\n",
    "\n",
    "print(\"max_error_EdgeworthExpansionCorr: \"+str(max(abs(GprodEdgeworththirdCorr(x,m1,m2,s1,s2,rho)-ecdf(x)))))\n",
    "print(\"mean_error_EdgeworthExpansionCorr: \"+str(abs(GprodEdgeworththirdCorr(x,m1,m2,s1,s2,rho)-ecdf(x)).mean()))\n",
    "\n",
    "print(\"max_error_EdgeworthExpansion2: \"+str(max(abs(GprodEdgeworth(x,m1,m2,s1,s2,0)[0]-ecdf(x)))))\n",
    "print(\"mean_error_EdgeworthExpansion2: \"+str(abs(GprodEdgeworth(x,m1,m2,s1,s2,0)[0]-ecdf(x)).mean()))\n",
    "\n",
    "print(\"max_error_EdgeworthExpansion2Corr: \"+str(max(abs(GprodEdgeworthCorr(x,m1,m2,s1,s2,rho)-ecdf(x)))))\n",
    "print(\"mean_error_EdgeworthExpansion2Corr: \"+str(abs(GprodEdgeworthCorr(x,m1,m2,s1,s2,rho)-ecdf(x)).mean()))\n"
   ]
  },
  {
   "attachments": {},
   "cell_type": "markdown",
   "metadata": {},
   "source": [
    "3) Case 3 of Article in Symmetry (VG works best)"
   ]
  },
  {
   "cell_type": "code",
   "execution_count": 50,
   "metadata": {},
   "outputs": [],
   "source": [
    "m1=1.;s1=2.0;m2=0.5;s2=0.2;rho=-0.5#\"-->Edgeworth\"\n",
    "rvsv,sgm,nu,theta,mus,K,S,V,E,x,C,cdf,cdfp,pdfp,ecdf=NormProductSimulator(m1,m2,s1,s2,nsim,rho)\n",
    "PlotAll(x,m1,m2,s1,s2,rho,sgm,nu,theta,mus,rvsv,cdfp,pdfp,cdf)"
   ]
  },
  {
   "cell_type": "code",
   "execution_count": 51,
   "metadata": {},
   "outputs": [
    {
     "name": "stdout",
     "output_type": "stream",
     "text": [
      "max_error_Vgamma: 0.01833037723185038\n",
      "mean_error_Vgamma: 0.0024120348447380976\n",
      "max_error_TruncFormula: 0.5227244339447694\n",
      "mean_error_TruncFormula: 0.04429019165380613\n",
      "max_error_EdgeworthExpansion: 0.09116307529379586\n",
      "mean_error_EdgeworthExpansion: 0.01621519384991973\n",
      "max_error_EdgeworthExpansionCorr: 0.048854465318536655\n",
      "mean_error_EdgeworthExpansionCorr: 0.007652113229896113\n",
      "max_error_EdgeworthExpansion2: 0.06185640300138584\n",
      "mean_error_EdgeworthExpansion2: 0.013949572475341598\n",
      "max_error_EdgeworthExpansion2Corr: 0.02062787475487393\n",
      "mean_error_EdgeworthExpansion2Corr: 0.0043280845063548125\n"
     ]
    }
   ],
   "source": [
    "print(\"max_error_Vgamma: \"+str(max(abs(np.array(cdf)-ecdf(x)))))\n",
    "print(\"mean_error_Vgamma: \"+str(abs(np.array(cdf)-ecdf(x)).mean()))\n",
    "print(\"max_error_TruncFormula: \"+str(max(abs(np.array(cdfp)*C-ecdf(x)))))\n",
    "print(\"mean_error_TruncFormula: \"+str(abs(np.array(cdfp)*C-ecdf(x)).mean()))\n",
    "\n",
    "print(\"max_error_EdgeworthExpansion: \"+str(max(abs(GprodEdgeworththird(x,m1,m2,s1,s2,0)-ecdf(x)))))\n",
    "print(\"mean_error_EdgeworthExpansion: \"+str(abs(GprodEdgeworththird(x,m1,m2,s1,s2,0)-ecdf(x)).mean()))\n",
    "\n",
    "print(\"max_error_EdgeworthExpansionCorr: \"+str(max(abs(GprodEdgeworththirdCorr(x,m1,m2,s1,s2,rho)-ecdf(x)))))\n",
    "print(\"mean_error_EdgeworthExpansionCorr: \"+str(abs(GprodEdgeworththirdCorr(x,m1,m2,s1,s2,rho)-ecdf(x)).mean()))\n",
    "\n",
    "print(\"max_error_EdgeworthExpansion2: \"+str(max(abs(GprodEdgeworth(x,m1,m2,s1,s2,0)[0]-ecdf(x)))))\n",
    "print(\"mean_error_EdgeworthExpansion2: \"+str(abs(GprodEdgeworth(x,m1,m2,s1,s2,0)[0]-ecdf(x)).mean()))\n",
    "\n",
    "print(\"max_error_EdgeworthExpansion2Corr: \"+str(max(abs(GprodEdgeworthCorr(x,m1,m2,s1,s2,rho)-ecdf(x)))))\n",
    "print(\"mean_error_EdgeworthExpansion2Corr: \"+str(abs(GprodEdgeworthCorr(x,m1,m2,s1,s2,rho)-ecdf(x)).mean()))\n"
   ]
  }
 ],
 "metadata": {
  "kernelspec": {
   "display_name": "base",
   "language": "python",
   "name": "python3"
  },
  "language_info": {
   "codemirror_mode": {
    "name": "ipython",
    "version": 3
   },
   "file_extension": ".py",
   "mimetype": "text/x-python",
   "name": "python",
   "nbconvert_exporter": "python",
   "pygments_lexer": "ipython3",
   "version": "3.11.4"
  },
  "orig_nbformat": 4,
  "vscode": {
   "interpreter": {
    "hash": "59be76168299885bbf862648a19029c989ecc07e859b3a6d5c9ed39549a7801c"
   }
  }
 },
 "nbformat": 4,
 "nbformat_minor": 2
}
